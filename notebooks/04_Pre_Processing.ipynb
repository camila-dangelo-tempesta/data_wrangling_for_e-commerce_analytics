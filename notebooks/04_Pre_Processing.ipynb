{
 "cells": [
  {
   "cell_type": "markdown",
   "id": "cfc87720",
   "metadata": {},
   "source": [
    "# <font color='black'>Pre Processing For E-Commerce Analytics</font>"
   ]
  },
  {
   "cell_type": "markdown",
   "id": "260206d6",
   "metadata": {},
   "source": [
    "> **Exploratory Data Analysis**: ok\n",
    ">\n",
    " >  - EDA Parte 1\n",
    " >  - EDA Parte 2\n",
    "\n",
    "> **Attribute Engineering**: ok"
   ]
  },
  {
   "cell_type": "markdown",
   "id": "9c3de6f6",
   "metadata": {},
   "source": [
    "> # **Pre Processing**"
   ]
  },
  {
   "cell_type": "markdown",
   "id": "6279545e",
   "metadata": {},
   "source": [
    "## 0.0 IMPORTS"
   ]
  },
  {
   "cell_type": "code",
   "execution_count": 1,
   "id": "6da754d5-db10-4626-b5d3-9a0125483d6e",
   "metadata": {
    "id": "6da754d5-db10-4626-b5d3-9a0125483d6e"
   },
   "outputs": [],
   "source": [
    "# Imports\n",
    "import sklearn\n",
    "import numpy as np\n",
    "import pandas as pd\n",
    "from sklearn.preprocessing import LabelEncoder, MinMaxScaler, StandardScaler"
   ]
  },
  {
   "cell_type": "markdown",
   "id": "e11d5496",
   "metadata": {},
   "source": [
    "### 0.1 Helper Functions"
   ]
  },
  {
   "cell_type": "code",
   "execution_count": 2,
   "id": "58ccbb40",
   "metadata": {},
   "outputs": [
    {
     "name": "stdout",
     "output_type": "stream",
     "text": [
      "Versão da Linguagem Python Usada Neste Jupyter Notebook: 3.9.7\n"
     ]
    }
   ],
   "source": [
    "# Versão da Linguagem Python\n",
    "from platform import python_version\n",
    "print('Versão da Linguagem Python Usada Neste Jupyter Notebook:', python_version())"
   ]
  },
  {
   "cell_type": "code",
   "execution_count": 3,
   "id": "57ba4b40",
   "metadata": {
    "scrolled": false
   },
   "outputs": [
    {
     "name": "stdout",
     "output_type": "stream",
     "text": [
      "Author: Camila D'Angelo\n",
      "\n",
      "pandas : 1.3.4\n",
      "numpy  : 1.21.4\n",
      "sklearn: 0.24.2\n",
      "\n"
     ]
    }
   ],
   "source": [
    "# Versões dos pacotes usados neste jupyter notebook\n",
    "%reload_ext watermark\n",
    "%watermark -a \"Camila D'Angelo\" --iversions"
   ]
  },
  {
   "cell_type": "markdown",
   "id": "e0a694bf",
   "metadata": {},
   "source": [
    "## LOADING DATA"
   ]
  },
  {
   "cell_type": "code",
   "execution_count": 4,
   "id": "898ab2f1-c855-49b6-aa37-ec6c26c3a89b",
   "metadata": {
    "id": "898ab2f1-c855-49b6-aa37-ec6c26c3a89b"
   },
   "outputs": [],
   "source": [
    "# Carrega o dataset\n",
    "df = pd.read_csv('dados/df_eng.csv', index_col = 0)"
   ]
  },
  {
   "cell_type": "code",
   "execution_count": 5,
   "id": "4d553627",
   "metadata": {},
   "outputs": [
    {
     "data": {
      "text/plain": [
       "(10643, 16)"
      ]
     },
     "execution_count": 5,
     "metadata": {},
     "output_type": "execute_result"
    }
   ],
   "source": [
    "# Check tamanho dataset\n",
    "df.shape"
   ]
  },
  {
   "cell_type": "code",
   "execution_count": 6,
   "id": "IyX0ACtfav2M",
   "metadata": {
    "colab": {
     "base_uri": "https://localhost:8080/"
    },
    "executionInfo": {
     "elapsed": 354,
     "status": "ok",
     "timestamp": 1649600907074,
     "user": {
      "displayName": "Muhammad Hamzah",
      "userId": "06012328832276120437"
     },
     "user_tz": -420
    },
    "id": "IyX0ACtfav2M",
    "outputId": "8cfd91bb-c186-4290-e273-fc191aee1394"
   },
   "outputs": [
    {
     "name": "stdout",
     "output_type": "stream",
     "text": [
      "<class 'pandas.core.frame.DataFrame'>\n",
      "Int64Index: 10643 entries, 0 to 10999\n",
      "Data columns (total 16 columns):\n",
      " #   Column                        Non-Null Count  Dtype \n",
      "---  ------                        --------------  ----- \n",
      " 0   ID                            10643 non-null  int64 \n",
      " 1   corredor_armazem              10643 non-null  object\n",
      " 2   modo_envio                    10643 non-null  object\n",
      " 3   numero_chamadas_cliente       10643 non-null  int64 \n",
      " 4   avaliacao_cliente             10643 non-null  int64 \n",
      " 5   custo_produto                 10643 non-null  int64 \n",
      " 6   compras_anteriores            10643 non-null  int64 \n",
      " 7   prioridade_produto            10643 non-null  object\n",
      " 8   genero                        10643 non-null  object\n",
      " 9   desconto                      10643 non-null  int64 \n",
      " 10  peso_gramas                   10643 non-null  int64 \n",
      " 11  entregue_no_prazo             10643 non-null  int64 \n",
      " 12  performance_prioridade_envio  10643 non-null  object\n",
      " 13  performance_modo_envio        10643 non-null  object\n",
      " 14  faixa_desconto                10643 non-null  object\n",
      " 15  performance_faixa_desconto    10643 non-null  object\n",
      "dtypes: int64(8), object(8)\n",
      "memory usage: 1.4+ MB\n"
     ]
    }
   ],
   "source": [
    "# Check informações\n",
    "df.info()"
   ]
  },
  {
   "cell_type": "code",
   "execution_count": 7,
   "id": "51d62145",
   "metadata": {},
   "outputs": [
    {
     "data": {
      "text/plain": [
       "Index(['ID', 'corredor_armazem', 'modo_envio', 'numero_chamadas_cliente',\n",
       "       'avaliacao_cliente', 'custo_produto', 'compras_anteriores',\n",
       "       'prioridade_produto', 'genero', 'desconto', 'peso_gramas',\n",
       "       'entregue_no_prazo', 'performance_prioridade_envio',\n",
       "       'performance_modo_envio', 'faixa_desconto',\n",
       "       'performance_faixa_desconto'],\n",
       "      dtype='object')"
      ]
     },
     "execution_count": 7,
     "metadata": {},
     "output_type": "execute_result"
    }
   ],
   "source": [
    "# Ckeck colunas\n",
    "df.columns"
   ]
  },
  {
   "cell_type": "code",
   "execution_count": 8,
   "id": "cd7a3458",
   "metadata": {},
   "outputs": [
    {
     "data": {
      "text/html": [
       "<div>\n",
       "<style scoped>\n",
       "    .dataframe tbody tr th:only-of-type {\n",
       "        vertical-align: middle;\n",
       "    }\n",
       "\n",
       "    .dataframe tbody tr th {\n",
       "        vertical-align: top;\n",
       "    }\n",
       "\n",
       "    .dataframe thead th {\n",
       "        text-align: right;\n",
       "    }\n",
       "</style>\n",
       "<table border=\"1\" class=\"dataframe\">\n",
       "  <thead>\n",
       "    <tr style=\"text-align: right;\">\n",
       "      <th></th>\n",
       "      <th>ID</th>\n",
       "      <th>corredor_armazem</th>\n",
       "      <th>modo_envio</th>\n",
       "      <th>numero_chamadas_cliente</th>\n",
       "      <th>avaliacao_cliente</th>\n",
       "      <th>custo_produto</th>\n",
       "      <th>compras_anteriores</th>\n",
       "      <th>prioridade_produto</th>\n",
       "      <th>genero</th>\n",
       "      <th>desconto</th>\n",
       "      <th>peso_gramas</th>\n",
       "      <th>entregue_no_prazo</th>\n",
       "      <th>performance_prioridade_envio</th>\n",
       "      <th>performance_modo_envio</th>\n",
       "      <th>faixa_desconto</th>\n",
       "      <th>performance_faixa_desconto</th>\n",
       "    </tr>\n",
       "  </thead>\n",
       "  <tbody>\n",
       "    <tr>\n",
       "      <th>0</th>\n",
       "      <td>1</td>\n",
       "      <td>D</td>\n",
       "      <td>Aviao</td>\n",
       "      <td>4</td>\n",
       "      <td>2</td>\n",
       "      <td>177</td>\n",
       "      <td>3</td>\n",
       "      <td>baixa</td>\n",
       "      <td>F</td>\n",
       "      <td>44</td>\n",
       "      <td>1233</td>\n",
       "      <td>1</td>\n",
       "      <td>Não Houve Atraso</td>\n",
       "      <td>Não Houve Atraso</td>\n",
       "      <td>Desconto Acima da Media</td>\n",
       "      <td>Entrega no Prazo com Desconto Acima da Media</td>\n",
       "    </tr>\n",
       "    <tr>\n",
       "      <th>1</th>\n",
       "      <td>2</td>\n",
       "      <td>F</td>\n",
       "      <td>Aviao</td>\n",
       "      <td>4</td>\n",
       "      <td>5</td>\n",
       "      <td>216</td>\n",
       "      <td>2</td>\n",
       "      <td>baixa</td>\n",
       "      <td>M</td>\n",
       "      <td>59</td>\n",
       "      <td>3088</td>\n",
       "      <td>1</td>\n",
       "      <td>Não Houve Atraso</td>\n",
       "      <td>Não Houve Atraso</td>\n",
       "      <td>Desconto Acima da Media</td>\n",
       "      <td>Entrega no Prazo com Desconto Acima da Media</td>\n",
       "    </tr>\n",
       "    <tr>\n",
       "      <th>2</th>\n",
       "      <td>3</td>\n",
       "      <td>A</td>\n",
       "      <td>Aviao</td>\n",
       "      <td>2</td>\n",
       "      <td>2</td>\n",
       "      <td>183</td>\n",
       "      <td>4</td>\n",
       "      <td>baixa</td>\n",
       "      <td>M</td>\n",
       "      <td>48</td>\n",
       "      <td>3374</td>\n",
       "      <td>1</td>\n",
       "      <td>Não Houve Atraso</td>\n",
       "      <td>Não Houve Atraso</td>\n",
       "      <td>Desconto Acima da Media</td>\n",
       "      <td>Entrega no Prazo com Desconto Acima da Media</td>\n",
       "    </tr>\n",
       "    <tr>\n",
       "      <th>3</th>\n",
       "      <td>4</td>\n",
       "      <td>B</td>\n",
       "      <td>Aviao</td>\n",
       "      <td>3</td>\n",
       "      <td>3</td>\n",
       "      <td>176</td>\n",
       "      <td>4</td>\n",
       "      <td>media</td>\n",
       "      <td>M</td>\n",
       "      <td>10</td>\n",
       "      <td>1177</td>\n",
       "      <td>1</td>\n",
       "      <td>Não Houve Atraso</td>\n",
       "      <td>Não Houve Atraso</td>\n",
       "      <td>Desconto Abaixo da Media</td>\n",
       "      <td>Entrega no Prazo com Desconto Abaixo da Media</td>\n",
       "    </tr>\n",
       "    <tr>\n",
       "      <th>4</th>\n",
       "      <td>5</td>\n",
       "      <td>C</td>\n",
       "      <td>Aviao</td>\n",
       "      <td>2</td>\n",
       "      <td>2</td>\n",
       "      <td>184</td>\n",
       "      <td>3</td>\n",
       "      <td>media</td>\n",
       "      <td>F</td>\n",
       "      <td>46</td>\n",
       "      <td>2484</td>\n",
       "      <td>1</td>\n",
       "      <td>Não Houve Atraso</td>\n",
       "      <td>Não Houve Atraso</td>\n",
       "      <td>Desconto Acima da Media</td>\n",
       "      <td>Entrega no Prazo com Desconto Acima da Media</td>\n",
       "    </tr>\n",
       "  </tbody>\n",
       "</table>\n",
       "</div>"
      ],
      "text/plain": [
       "   ID corredor_armazem modo_envio  numero_chamadas_cliente  avaliacao_cliente  \\\n",
       "0   1                D      Aviao                        4                  2   \n",
       "1   2                F      Aviao                        4                  5   \n",
       "2   3                A      Aviao                        2                  2   \n",
       "3   4                B      Aviao                        3                  3   \n",
       "4   5                C      Aviao                        2                  2   \n",
       "\n",
       "   custo_produto  compras_anteriores prioridade_produto genero  desconto  \\\n",
       "0            177                   3              baixa      F        44   \n",
       "1            216                   2              baixa      M        59   \n",
       "2            183                   4              baixa      M        48   \n",
       "3            176                   4              media      M        10   \n",
       "4            184                   3              media      F        46   \n",
       "\n",
       "   peso_gramas  entregue_no_prazo performance_prioridade_envio  \\\n",
       "0         1233                  1             Não Houve Atraso   \n",
       "1         3088                  1             Não Houve Atraso   \n",
       "2         3374                  1             Não Houve Atraso   \n",
       "3         1177                  1             Não Houve Atraso   \n",
       "4         2484                  1             Não Houve Atraso   \n",
       "\n",
       "  performance_modo_envio            faixa_desconto  \\\n",
       "0       Não Houve Atraso   Desconto Acima da Media   \n",
       "1       Não Houve Atraso   Desconto Acima da Media   \n",
       "2       Não Houve Atraso   Desconto Acima da Media   \n",
       "3       Não Houve Atraso  Desconto Abaixo da Media   \n",
       "4       Não Houve Atraso   Desconto Acima da Media   \n",
       "\n",
       "                      performance_faixa_desconto  \n",
       "0   Entrega no Prazo com Desconto Acima da Media  \n",
       "1   Entrega no Prazo com Desconto Acima da Media  \n",
       "2   Entrega no Prazo com Desconto Acima da Media  \n",
       "3  Entrega no Prazo com Desconto Abaixo da Media  \n",
       "4   Entrega no Prazo com Desconto Acima da Media  "
      ]
     },
     "execution_count": 8,
     "metadata": {},
     "output_type": "execute_result"
    }
   ],
   "source": [
    "df.head()"
   ]
  },
  {
   "cell_type": "markdown",
   "id": "8050f219",
   "metadata": {},
   "source": [
    "> # **Variaves Categóricas**"
   ]
  },
  {
   "cell_type": "markdown",
   "id": "82fd3ee0",
   "metadata": {},
   "source": [
    "## Label Encoding"
   ]
  },
  {
   "cell_type": "markdown",
   "id": "388e3c65",
   "metadata": {},
   "source": [
    "### Método 1: python"
   ]
  },
  {
   "cell_type": "markdown",
   "id": "d361a261",
   "metadata": {},
   "source": [
    "> **prioridade_produto**"
   ]
  },
  {
   "cell_type": "code",
   "execution_count": 9,
   "id": "fe846e85",
   "metadata": {},
   "outputs": [
    {
     "data": {
      "text/plain": [
       "baixa    5174\n",
       "media    4587\n",
       "alta      882\n",
       "Name: prioridade_produto, dtype: int64"
      ]
     },
     "execution_count": 9,
     "metadata": {},
     "output_type": "execute_result"
    }
   ],
   "source": [
    "# Variável categórica ordinal(hierarquia): contagem de frequencia das categorias\n",
    "df.prioridade_produto.value_counts()"
   ]
  },
  {
   "cell_type": "code",
   "execution_count": 10,
   "id": "01ab6a3c",
   "metadata": {},
   "outputs": [],
   "source": [
    "# Dicionário de mapeamento: convertendo para representação numérica correspondente\n",
    "dic_prioridade_produto = {'baixa' : 1, 'media' : 2, 'alta' : 0}"
   ]
  },
  {
   "cell_type": "code",
   "execution_count": 11,
   "id": "0c573961",
   "metadata": {},
   "outputs": [],
   "source": [
    "# Mapeamento: aplicando o dicionário\n",
    "df['prioridade_produto'] = df['prioridade_produto'].map(dic_prioridade_produto)"
   ]
  },
  {
   "cell_type": "code",
   "execution_count": 12,
   "id": "2518473d",
   "metadata": {},
   "outputs": [
    {
     "data": {
      "text/plain": [
       "1    5174\n",
       "2    4587\n",
       "0     882\n",
       "Name: prioridade_produto, dtype: int64"
      ]
     },
     "execution_count": 12,
     "metadata": {},
     "output_type": "execute_result"
    }
   ],
   "source": [
    "# Pre processamento realizado: transformação de categorias em texto para numéro\n",
    "df.prioridade_produto.value_counts()"
   ]
  },
  {
   "cell_type": "code",
   "execution_count": 13,
   "id": "a80d030c",
   "metadata": {},
   "outputs": [
    {
     "data": {
      "text/html": [
       "<div>\n",
       "<style scoped>\n",
       "    .dataframe tbody tr th:only-of-type {\n",
       "        vertical-align: middle;\n",
       "    }\n",
       "\n",
       "    .dataframe tbody tr th {\n",
       "        vertical-align: top;\n",
       "    }\n",
       "\n",
       "    .dataframe thead th {\n",
       "        text-align: right;\n",
       "    }\n",
       "</style>\n",
       "<table border=\"1\" class=\"dataframe\">\n",
       "  <thead>\n",
       "    <tr style=\"text-align: right;\">\n",
       "      <th></th>\n",
       "      <th>ID</th>\n",
       "      <th>corredor_armazem</th>\n",
       "      <th>modo_envio</th>\n",
       "      <th>numero_chamadas_cliente</th>\n",
       "      <th>avaliacao_cliente</th>\n",
       "      <th>custo_produto</th>\n",
       "      <th>compras_anteriores</th>\n",
       "      <th>prioridade_produto</th>\n",
       "      <th>genero</th>\n",
       "      <th>desconto</th>\n",
       "      <th>peso_gramas</th>\n",
       "      <th>entregue_no_prazo</th>\n",
       "      <th>performance_prioridade_envio</th>\n",
       "      <th>performance_modo_envio</th>\n",
       "      <th>faixa_desconto</th>\n",
       "      <th>performance_faixa_desconto</th>\n",
       "    </tr>\n",
       "  </thead>\n",
       "  <tbody>\n",
       "    <tr>\n",
       "      <th>0</th>\n",
       "      <td>1</td>\n",
       "      <td>D</td>\n",
       "      <td>Aviao</td>\n",
       "      <td>4</td>\n",
       "      <td>2</td>\n",
       "      <td>177</td>\n",
       "      <td>3</td>\n",
       "      <td>1</td>\n",
       "      <td>F</td>\n",
       "      <td>44</td>\n",
       "      <td>1233</td>\n",
       "      <td>1</td>\n",
       "      <td>Não Houve Atraso</td>\n",
       "      <td>Não Houve Atraso</td>\n",
       "      <td>Desconto Acima da Media</td>\n",
       "      <td>Entrega no Prazo com Desconto Acima da Media</td>\n",
       "    </tr>\n",
       "    <tr>\n",
       "      <th>1</th>\n",
       "      <td>2</td>\n",
       "      <td>F</td>\n",
       "      <td>Aviao</td>\n",
       "      <td>4</td>\n",
       "      <td>5</td>\n",
       "      <td>216</td>\n",
       "      <td>2</td>\n",
       "      <td>1</td>\n",
       "      <td>M</td>\n",
       "      <td>59</td>\n",
       "      <td>3088</td>\n",
       "      <td>1</td>\n",
       "      <td>Não Houve Atraso</td>\n",
       "      <td>Não Houve Atraso</td>\n",
       "      <td>Desconto Acima da Media</td>\n",
       "      <td>Entrega no Prazo com Desconto Acima da Media</td>\n",
       "    </tr>\n",
       "    <tr>\n",
       "      <th>2</th>\n",
       "      <td>3</td>\n",
       "      <td>A</td>\n",
       "      <td>Aviao</td>\n",
       "      <td>2</td>\n",
       "      <td>2</td>\n",
       "      <td>183</td>\n",
       "      <td>4</td>\n",
       "      <td>1</td>\n",
       "      <td>M</td>\n",
       "      <td>48</td>\n",
       "      <td>3374</td>\n",
       "      <td>1</td>\n",
       "      <td>Não Houve Atraso</td>\n",
       "      <td>Não Houve Atraso</td>\n",
       "      <td>Desconto Acima da Media</td>\n",
       "      <td>Entrega no Prazo com Desconto Acima da Media</td>\n",
       "    </tr>\n",
       "    <tr>\n",
       "      <th>3</th>\n",
       "      <td>4</td>\n",
       "      <td>B</td>\n",
       "      <td>Aviao</td>\n",
       "      <td>3</td>\n",
       "      <td>3</td>\n",
       "      <td>176</td>\n",
       "      <td>4</td>\n",
       "      <td>2</td>\n",
       "      <td>M</td>\n",
       "      <td>10</td>\n",
       "      <td>1177</td>\n",
       "      <td>1</td>\n",
       "      <td>Não Houve Atraso</td>\n",
       "      <td>Não Houve Atraso</td>\n",
       "      <td>Desconto Abaixo da Media</td>\n",
       "      <td>Entrega no Prazo com Desconto Abaixo da Media</td>\n",
       "    </tr>\n",
       "    <tr>\n",
       "      <th>4</th>\n",
       "      <td>5</td>\n",
       "      <td>C</td>\n",
       "      <td>Aviao</td>\n",
       "      <td>2</td>\n",
       "      <td>2</td>\n",
       "      <td>184</td>\n",
       "      <td>3</td>\n",
       "      <td>2</td>\n",
       "      <td>F</td>\n",
       "      <td>46</td>\n",
       "      <td>2484</td>\n",
       "      <td>1</td>\n",
       "      <td>Não Houve Atraso</td>\n",
       "      <td>Não Houve Atraso</td>\n",
       "      <td>Desconto Acima da Media</td>\n",
       "      <td>Entrega no Prazo com Desconto Acima da Media</td>\n",
       "    </tr>\n",
       "  </tbody>\n",
       "</table>\n",
       "</div>"
      ],
      "text/plain": [
       "   ID corredor_armazem modo_envio  numero_chamadas_cliente  avaliacao_cliente  \\\n",
       "0   1                D      Aviao                        4                  2   \n",
       "1   2                F      Aviao                        4                  5   \n",
       "2   3                A      Aviao                        2                  2   \n",
       "3   4                B      Aviao                        3                  3   \n",
       "4   5                C      Aviao                        2                  2   \n",
       "\n",
       "   custo_produto  compras_anteriores  prioridade_produto genero  desconto  \\\n",
       "0            177                   3                   1      F        44   \n",
       "1            216                   2                   1      M        59   \n",
       "2            183                   4                   1      M        48   \n",
       "3            176                   4                   2      M        10   \n",
       "4            184                   3                   2      F        46   \n",
       "\n",
       "   peso_gramas  entregue_no_prazo performance_prioridade_envio  \\\n",
       "0         1233                  1             Não Houve Atraso   \n",
       "1         3088                  1             Não Houve Atraso   \n",
       "2         3374                  1             Não Houve Atraso   \n",
       "3         1177                  1             Não Houve Atraso   \n",
       "4         2484                  1             Não Houve Atraso   \n",
       "\n",
       "  performance_modo_envio            faixa_desconto  \\\n",
       "0       Não Houve Atraso   Desconto Acima da Media   \n",
       "1       Não Houve Atraso   Desconto Acima da Media   \n",
       "2       Não Houve Atraso   Desconto Acima da Media   \n",
       "3       Não Houve Atraso  Desconto Abaixo da Media   \n",
       "4       Não Houve Atraso   Desconto Acima da Media   \n",
       "\n",
       "                      performance_faixa_desconto  \n",
       "0   Entrega no Prazo com Desconto Acima da Media  \n",
       "1   Entrega no Prazo com Desconto Acima da Media  \n",
       "2   Entrega no Prazo com Desconto Acima da Media  \n",
       "3  Entrega no Prazo com Desconto Abaixo da Media  \n",
       "4   Entrega no Prazo com Desconto Acima da Media  "
      ]
     },
     "execution_count": 13,
     "metadata": {},
     "output_type": "execute_result"
    }
   ],
   "source": [
    "df.head()"
   ]
  },
  {
   "cell_type": "markdown",
   "id": "6dcaef05",
   "metadata": {},
   "source": [
    "> **modo_envio**"
   ]
  },
  {
   "cell_type": "code",
   "execution_count": 14,
   "id": "57976d77",
   "metadata": {},
   "outputs": [
    {
     "data": {
      "text/plain": [
       "Navio       7212\n",
       "Aviao       1728\n",
       "Caminhao    1703\n",
       "Name: modo_envio, dtype: int64"
      ]
     },
     "execution_count": 14,
     "metadata": {},
     "output_type": "execute_result"
    }
   ],
   "source": [
    "# Variável categórica ordinal(hierarquia):  existe uma diferença de custo no modo de envio que podemos classificar como ordinal\n",
    "df.modo_envio.value_counts()"
   ]
  },
  {
   "cell_type": "code",
   "execution_count": 15,
   "id": "3d2696ef",
   "metadata": {},
   "outputs": [],
   "source": [
    "# Dicionário de mapeamento: convertendo para representação numérica correspondente\n",
    "dic_modo_envio = {'Navio' : 0, 'Aviao' : 1, 'Caminhao' : 2}"
   ]
  },
  {
   "cell_type": "code",
   "execution_count": 16,
   "id": "30b0ba5a",
   "metadata": {},
   "outputs": [],
   "source": [
    "# Mapeamento: aplicando o dicionário\n",
    "df['modo_envio'] = df['modo_envio'].map(dic_modo_envio)"
   ]
  },
  {
   "cell_type": "code",
   "execution_count": 17,
   "id": "a22ab620",
   "metadata": {},
   "outputs": [
    {
     "data": {
      "text/plain": [
       "0    7212\n",
       "1    1728\n",
       "2    1703\n",
       "Name: modo_envio, dtype: int64"
      ]
     },
     "execution_count": 17,
     "metadata": {},
     "output_type": "execute_result"
    }
   ],
   "source": [
    "# Pre processamento realizado: transformação de categorias em texto para numéro\n",
    "df.modo_envio.value_counts()"
   ]
  },
  {
   "cell_type": "code",
   "execution_count": 18,
   "id": "89b20dab",
   "metadata": {},
   "outputs": [
    {
     "data": {
      "text/html": [
       "<div>\n",
       "<style scoped>\n",
       "    .dataframe tbody tr th:only-of-type {\n",
       "        vertical-align: middle;\n",
       "    }\n",
       "\n",
       "    .dataframe tbody tr th {\n",
       "        vertical-align: top;\n",
       "    }\n",
       "\n",
       "    .dataframe thead th {\n",
       "        text-align: right;\n",
       "    }\n",
       "</style>\n",
       "<table border=\"1\" class=\"dataframe\">\n",
       "  <thead>\n",
       "    <tr style=\"text-align: right;\">\n",
       "      <th></th>\n",
       "      <th>ID</th>\n",
       "      <th>corredor_armazem</th>\n",
       "      <th>modo_envio</th>\n",
       "      <th>numero_chamadas_cliente</th>\n",
       "      <th>avaliacao_cliente</th>\n",
       "      <th>custo_produto</th>\n",
       "      <th>compras_anteriores</th>\n",
       "      <th>prioridade_produto</th>\n",
       "      <th>genero</th>\n",
       "      <th>desconto</th>\n",
       "      <th>peso_gramas</th>\n",
       "      <th>entregue_no_prazo</th>\n",
       "      <th>performance_prioridade_envio</th>\n",
       "      <th>performance_modo_envio</th>\n",
       "      <th>faixa_desconto</th>\n",
       "      <th>performance_faixa_desconto</th>\n",
       "    </tr>\n",
       "  </thead>\n",
       "  <tbody>\n",
       "    <tr>\n",
       "      <th>0</th>\n",
       "      <td>1</td>\n",
       "      <td>D</td>\n",
       "      <td>1</td>\n",
       "      <td>4</td>\n",
       "      <td>2</td>\n",
       "      <td>177</td>\n",
       "      <td>3</td>\n",
       "      <td>1</td>\n",
       "      <td>F</td>\n",
       "      <td>44</td>\n",
       "      <td>1233</td>\n",
       "      <td>1</td>\n",
       "      <td>Não Houve Atraso</td>\n",
       "      <td>Não Houve Atraso</td>\n",
       "      <td>Desconto Acima da Media</td>\n",
       "      <td>Entrega no Prazo com Desconto Acima da Media</td>\n",
       "    </tr>\n",
       "    <tr>\n",
       "      <th>1</th>\n",
       "      <td>2</td>\n",
       "      <td>F</td>\n",
       "      <td>1</td>\n",
       "      <td>4</td>\n",
       "      <td>5</td>\n",
       "      <td>216</td>\n",
       "      <td>2</td>\n",
       "      <td>1</td>\n",
       "      <td>M</td>\n",
       "      <td>59</td>\n",
       "      <td>3088</td>\n",
       "      <td>1</td>\n",
       "      <td>Não Houve Atraso</td>\n",
       "      <td>Não Houve Atraso</td>\n",
       "      <td>Desconto Acima da Media</td>\n",
       "      <td>Entrega no Prazo com Desconto Acima da Media</td>\n",
       "    </tr>\n",
       "    <tr>\n",
       "      <th>2</th>\n",
       "      <td>3</td>\n",
       "      <td>A</td>\n",
       "      <td>1</td>\n",
       "      <td>2</td>\n",
       "      <td>2</td>\n",
       "      <td>183</td>\n",
       "      <td>4</td>\n",
       "      <td>1</td>\n",
       "      <td>M</td>\n",
       "      <td>48</td>\n",
       "      <td>3374</td>\n",
       "      <td>1</td>\n",
       "      <td>Não Houve Atraso</td>\n",
       "      <td>Não Houve Atraso</td>\n",
       "      <td>Desconto Acima da Media</td>\n",
       "      <td>Entrega no Prazo com Desconto Acima da Media</td>\n",
       "    </tr>\n",
       "    <tr>\n",
       "      <th>3</th>\n",
       "      <td>4</td>\n",
       "      <td>B</td>\n",
       "      <td>1</td>\n",
       "      <td>3</td>\n",
       "      <td>3</td>\n",
       "      <td>176</td>\n",
       "      <td>4</td>\n",
       "      <td>2</td>\n",
       "      <td>M</td>\n",
       "      <td>10</td>\n",
       "      <td>1177</td>\n",
       "      <td>1</td>\n",
       "      <td>Não Houve Atraso</td>\n",
       "      <td>Não Houve Atraso</td>\n",
       "      <td>Desconto Abaixo da Media</td>\n",
       "      <td>Entrega no Prazo com Desconto Abaixo da Media</td>\n",
       "    </tr>\n",
       "    <tr>\n",
       "      <th>4</th>\n",
       "      <td>5</td>\n",
       "      <td>C</td>\n",
       "      <td>1</td>\n",
       "      <td>2</td>\n",
       "      <td>2</td>\n",
       "      <td>184</td>\n",
       "      <td>3</td>\n",
       "      <td>2</td>\n",
       "      <td>F</td>\n",
       "      <td>46</td>\n",
       "      <td>2484</td>\n",
       "      <td>1</td>\n",
       "      <td>Não Houve Atraso</td>\n",
       "      <td>Não Houve Atraso</td>\n",
       "      <td>Desconto Acima da Media</td>\n",
       "      <td>Entrega no Prazo com Desconto Acima da Media</td>\n",
       "    </tr>\n",
       "  </tbody>\n",
       "</table>\n",
       "</div>"
      ],
      "text/plain": [
       "   ID corredor_armazem  modo_envio  numero_chamadas_cliente  \\\n",
       "0   1                D           1                        4   \n",
       "1   2                F           1                        4   \n",
       "2   3                A           1                        2   \n",
       "3   4                B           1                        3   \n",
       "4   5                C           1                        2   \n",
       "\n",
       "   avaliacao_cliente  custo_produto  compras_anteriores  prioridade_produto  \\\n",
       "0                  2            177                   3                   1   \n",
       "1                  5            216                   2                   1   \n",
       "2                  2            183                   4                   1   \n",
       "3                  3            176                   4                   2   \n",
       "4                  2            184                   3                   2   \n",
       "\n",
       "  genero  desconto  peso_gramas  entregue_no_prazo  \\\n",
       "0      F        44         1233                  1   \n",
       "1      M        59         3088                  1   \n",
       "2      M        48         3374                  1   \n",
       "3      M        10         1177                  1   \n",
       "4      F        46         2484                  1   \n",
       "\n",
       "  performance_prioridade_envio performance_modo_envio  \\\n",
       "0             Não Houve Atraso       Não Houve Atraso   \n",
       "1             Não Houve Atraso       Não Houve Atraso   \n",
       "2             Não Houve Atraso       Não Houve Atraso   \n",
       "3             Não Houve Atraso       Não Houve Atraso   \n",
       "4             Não Houve Atraso       Não Houve Atraso   \n",
       "\n",
       "             faixa_desconto                     performance_faixa_desconto  \n",
       "0   Desconto Acima da Media   Entrega no Prazo com Desconto Acima da Media  \n",
       "1   Desconto Acima da Media   Entrega no Prazo com Desconto Acima da Media  \n",
       "2   Desconto Acima da Media   Entrega no Prazo com Desconto Acima da Media  \n",
       "3  Desconto Abaixo da Media  Entrega no Prazo com Desconto Abaixo da Media  \n",
       "4   Desconto Acima da Media   Entrega no Prazo com Desconto Acima da Media  "
      ]
     },
     "execution_count": 18,
     "metadata": {},
     "output_type": "execute_result"
    }
   ],
   "source": [
    "df.head()"
   ]
  },
  {
   "cell_type": "markdown",
   "id": "780ccb60",
   "metadata": {},
   "source": [
    "### Método 2: sklearn"
   ]
  },
  {
   "cell_type": "markdown",
   "id": "592e3a07",
   "metadata": {},
   "source": [
    "> **genero**"
   ]
  },
  {
   "cell_type": "code",
   "execution_count": 19,
   "id": "19e832fd",
   "metadata": {},
   "outputs": [
    {
     "data": {
      "text/plain": [
       "F    5357\n",
       "M    5286\n",
       "Name: genero, dtype: int64"
      ]
     },
     "execution_count": 19,
     "metadata": {},
     "output_type": "execute_result"
    }
   ],
   "source": [
    "# Variável categórica nominal: aqui não existe hierarquia\n",
    "df.genero.value_counts()"
   ]
  },
  {
   "cell_type": "code",
   "execution_count": 20,
   "id": "4aed91fc",
   "metadata": {},
   "outputs": [],
   "source": [
    "# Cria o objeto encoder: sklearn\n",
    "le = LabelEncoder()"
   ]
  },
  {
   "cell_type": "code",
   "execution_count": 21,
   "id": "36c91955",
   "metadata": {},
   "outputs": [
    {
     "data": {
      "text/plain": [
       "LabelEncoder()"
      ]
     },
     "execution_count": 21,
     "metadata": {},
     "output_type": "execute_result"
    }
   ],
   "source": [
    "# Treina o objeto (normalmente fazemos isso somente com dados de treino)\n",
    "# Aqui estamos aplicando o fit em todos os dados da variavél genero, mas, o ideal é aplicar apenas nos dados de treino (%)\n",
    "le.fit(df.genero)"
   ]
  },
  {
   "cell_type": "code",
   "execution_count": 22,
   "id": "23ed9510",
   "metadata": {},
   "outputs": [
    {
     "data": {
      "text/plain": [
       "['F', 'M']"
      ]
     },
     "execution_count": 22,
     "metadata": {},
     "output_type": "execute_result"
    }
   ],
   "source": [
    "list(le.classes_)"
   ]
  },
  {
   "cell_type": "code",
   "execution_count": 23,
   "id": "fc7c33bf",
   "metadata": {},
   "outputs": [],
   "source": [
    "# Aplicamos o objeto encoder treinado \n",
    "# (fazemos isso em dados de treino e teste e também em novos dados usados no modelo)\n",
    "df.genero = le.transform(df.genero)"
   ]
  },
  {
   "cell_type": "code",
   "execution_count": 24,
   "id": "a3fe0916",
   "metadata": {},
   "outputs": [
    {
     "data": {
      "text/plain": [
       "0    5357\n",
       "1    5286\n",
       "Name: genero, dtype: int64"
      ]
     },
     "execution_count": 24,
     "metadata": {},
     "output_type": "execute_result"
    }
   ],
   "source": [
    "df.genero.value_counts()"
   ]
  },
  {
   "cell_type": "markdown",
   "id": "15d9843d",
   "metadata": {},
   "source": [
    "## One-Hot Encoding"
   ]
  },
  {
   "cell_type": "markdown",
   "id": "f2486008",
   "metadata": {},
   "source": [
    "![title](imagens/one-hot-encoding.png)"
   ]
  },
  {
   "cell_type": "code",
   "execution_count": 25,
   "id": "824f20d5",
   "metadata": {},
   "outputs": [
    {
     "data": {
      "text/html": [
       "<div>\n",
       "<style scoped>\n",
       "    .dataframe tbody tr th:only-of-type {\n",
       "        vertical-align: middle;\n",
       "    }\n",
       "\n",
       "    .dataframe tbody tr th {\n",
       "        vertical-align: top;\n",
       "    }\n",
       "\n",
       "    .dataframe thead th {\n",
       "        text-align: right;\n",
       "    }\n",
       "</style>\n",
       "<table border=\"1\" class=\"dataframe\">\n",
       "  <thead>\n",
       "    <tr style=\"text-align: right;\">\n",
       "      <th></th>\n",
       "      <th>ID</th>\n",
       "      <th>corredor_armazem</th>\n",
       "      <th>modo_envio</th>\n",
       "      <th>numero_chamadas_cliente</th>\n",
       "      <th>avaliacao_cliente</th>\n",
       "      <th>custo_produto</th>\n",
       "      <th>compras_anteriores</th>\n",
       "      <th>prioridade_produto</th>\n",
       "      <th>genero</th>\n",
       "      <th>desconto</th>\n",
       "      <th>peso_gramas</th>\n",
       "      <th>entregue_no_prazo</th>\n",
       "      <th>performance_prioridade_envio</th>\n",
       "      <th>performance_modo_envio</th>\n",
       "      <th>faixa_desconto</th>\n",
       "      <th>performance_faixa_desconto</th>\n",
       "    </tr>\n",
       "  </thead>\n",
       "  <tbody>\n",
       "    <tr>\n",
       "      <th>0</th>\n",
       "      <td>1</td>\n",
       "      <td>D</td>\n",
       "      <td>1</td>\n",
       "      <td>4</td>\n",
       "      <td>2</td>\n",
       "      <td>177</td>\n",
       "      <td>3</td>\n",
       "      <td>1</td>\n",
       "      <td>0</td>\n",
       "      <td>44</td>\n",
       "      <td>1233</td>\n",
       "      <td>1</td>\n",
       "      <td>Não Houve Atraso</td>\n",
       "      <td>Não Houve Atraso</td>\n",
       "      <td>Desconto Acima da Media</td>\n",
       "      <td>Entrega no Prazo com Desconto Acima da Media</td>\n",
       "    </tr>\n",
       "    <tr>\n",
       "      <th>1</th>\n",
       "      <td>2</td>\n",
       "      <td>F</td>\n",
       "      <td>1</td>\n",
       "      <td>4</td>\n",
       "      <td>5</td>\n",
       "      <td>216</td>\n",
       "      <td>2</td>\n",
       "      <td>1</td>\n",
       "      <td>1</td>\n",
       "      <td>59</td>\n",
       "      <td>3088</td>\n",
       "      <td>1</td>\n",
       "      <td>Não Houve Atraso</td>\n",
       "      <td>Não Houve Atraso</td>\n",
       "      <td>Desconto Acima da Media</td>\n",
       "      <td>Entrega no Prazo com Desconto Acima da Media</td>\n",
       "    </tr>\n",
       "    <tr>\n",
       "      <th>2</th>\n",
       "      <td>3</td>\n",
       "      <td>A</td>\n",
       "      <td>1</td>\n",
       "      <td>2</td>\n",
       "      <td>2</td>\n",
       "      <td>183</td>\n",
       "      <td>4</td>\n",
       "      <td>1</td>\n",
       "      <td>1</td>\n",
       "      <td>48</td>\n",
       "      <td>3374</td>\n",
       "      <td>1</td>\n",
       "      <td>Não Houve Atraso</td>\n",
       "      <td>Não Houve Atraso</td>\n",
       "      <td>Desconto Acima da Media</td>\n",
       "      <td>Entrega no Prazo com Desconto Acima da Media</td>\n",
       "    </tr>\n",
       "    <tr>\n",
       "      <th>3</th>\n",
       "      <td>4</td>\n",
       "      <td>B</td>\n",
       "      <td>1</td>\n",
       "      <td>3</td>\n",
       "      <td>3</td>\n",
       "      <td>176</td>\n",
       "      <td>4</td>\n",
       "      <td>2</td>\n",
       "      <td>1</td>\n",
       "      <td>10</td>\n",
       "      <td>1177</td>\n",
       "      <td>1</td>\n",
       "      <td>Não Houve Atraso</td>\n",
       "      <td>Não Houve Atraso</td>\n",
       "      <td>Desconto Abaixo da Media</td>\n",
       "      <td>Entrega no Prazo com Desconto Abaixo da Media</td>\n",
       "    </tr>\n",
       "    <tr>\n",
       "      <th>4</th>\n",
       "      <td>5</td>\n",
       "      <td>C</td>\n",
       "      <td>1</td>\n",
       "      <td>2</td>\n",
       "      <td>2</td>\n",
       "      <td>184</td>\n",
       "      <td>3</td>\n",
       "      <td>2</td>\n",
       "      <td>0</td>\n",
       "      <td>46</td>\n",
       "      <td>2484</td>\n",
       "      <td>1</td>\n",
       "      <td>Não Houve Atraso</td>\n",
       "      <td>Não Houve Atraso</td>\n",
       "      <td>Desconto Acima da Media</td>\n",
       "      <td>Entrega no Prazo com Desconto Acima da Media</td>\n",
       "    </tr>\n",
       "  </tbody>\n",
       "</table>\n",
       "</div>"
      ],
      "text/plain": [
       "   ID corredor_armazem  modo_envio  numero_chamadas_cliente  \\\n",
       "0   1                D           1                        4   \n",
       "1   2                F           1                        4   \n",
       "2   3                A           1                        2   \n",
       "3   4                B           1                        3   \n",
       "4   5                C           1                        2   \n",
       "\n",
       "   avaliacao_cliente  custo_produto  compras_anteriores  prioridade_produto  \\\n",
       "0                  2            177                   3                   1   \n",
       "1                  5            216                   2                   1   \n",
       "2                  2            183                   4                   1   \n",
       "3                  3            176                   4                   2   \n",
       "4                  2            184                   3                   2   \n",
       "\n",
       "   genero  desconto  peso_gramas  entregue_no_prazo  \\\n",
       "0       0        44         1233                  1   \n",
       "1       1        59         3088                  1   \n",
       "2       1        48         3374                  1   \n",
       "3       1        10         1177                  1   \n",
       "4       0        46         2484                  1   \n",
       "\n",
       "  performance_prioridade_envio performance_modo_envio  \\\n",
       "0             Não Houve Atraso       Não Houve Atraso   \n",
       "1             Não Houve Atraso       Não Houve Atraso   \n",
       "2             Não Houve Atraso       Não Houve Atraso   \n",
       "3             Não Houve Atraso       Não Houve Atraso   \n",
       "4             Não Houve Atraso       Não Houve Atraso   \n",
       "\n",
       "             faixa_desconto                     performance_faixa_desconto  \n",
       "0   Desconto Acima da Media   Entrega no Prazo com Desconto Acima da Media  \n",
       "1   Desconto Acima da Media   Entrega no Prazo com Desconto Acima da Media  \n",
       "2   Desconto Acima da Media   Entrega no Prazo com Desconto Acima da Media  \n",
       "3  Desconto Abaixo da Media  Entrega no Prazo com Desconto Abaixo da Media  \n",
       "4   Desconto Acima da Media   Entrega no Prazo com Desconto Acima da Media  "
      ]
     },
     "execution_count": 25,
     "metadata": {},
     "output_type": "execute_result"
    }
   ],
   "source": [
    "df.head()"
   ]
  },
  {
   "cell_type": "markdown",
   "id": "40c51a8e",
   "metadata": {},
   "source": [
    "> **corredor_armazem**\n",
    "\n",
    "> **performance_prioridade_envio**\n",
    "\n",
    "> **performance_modo_envio**\n",
    "\n",
    "> **faixa_desconto**\n",
    "\n",
    "> **performance_faixa_desconto**\n"
   ]
  },
  {
   "cell_type": "code",
   "execution_count": 26,
   "id": "7adbede2",
   "metadata": {
    "scrolled": true
   },
   "outputs": [
    {
     "data": {
      "text/plain": [
       "F    3539\n",
       "B    1778\n",
       "D    1777\n",
       "A    1777\n",
       "C    1772\n",
       "Name: corredor_armazem, dtype: int64"
      ]
     },
     "execution_count": 26,
     "metadata": {},
     "output_type": "execute_result"
    }
   ],
   "source": [
    "# Variável categórica nominal: aqui não existe hierarquia\n",
    "df.corredor_armazem.value_counts()"
   ]
  },
  {
   "cell_type": "code",
   "execution_count": 27,
   "id": "24a15505",
   "metadata": {},
   "outputs": [
    {
     "data": {
      "text/plain": [
       "Não Houve Atraso       6282\n",
       "Atraso Tolerável       2134\n",
       "Atraso Problemático    1917\n",
       "Atraso Crítico          310\n",
       "Name: performance_prioridade_envio, dtype: int64"
      ]
     },
     "execution_count": 27,
     "metadata": {},
     "output_type": "execute_result"
    }
   ],
   "source": [
    "# Variável categórica nominal\n",
    "df.performance_prioridade_envio.value_counts()"
   ]
  },
  {
   "cell_type": "code",
   "execution_count": 28,
   "id": "530005d0",
   "metadata": {},
   "outputs": [
    {
     "data": {
      "text/plain": [
       "Não Houve Atraso                               6282\n",
       "Atraso Tolerável na Entrega Por Navio          1453\n",
       "Atraso Problemático na Entrega Por Navio       1307\n",
       "Atraso Tolerável na Entrega Por Caminhao        350\n",
       "Atraso Tolerável na Entrega Por Aviao           331\n",
       "Atraso Problemático na Entrega Por Caminhao     310\n",
       "Atraso Problemático na Entrega Por Aviao        300\n",
       "Atraso Crítico na Entrega Por Navio             194\n",
       "Atraso Crítico na Entrega Por Aviao              65\n",
       "Atraso Crítico na Entrega Por Caminhao           51\n",
       "Name: performance_modo_envio, dtype: int64"
      ]
     },
     "execution_count": 28,
     "metadata": {},
     "output_type": "execute_result"
    }
   ],
   "source": [
    "# Variável categórica nominal\n",
    "df.performance_modo_envio.value_counts()"
   ]
  },
  {
   "cell_type": "code",
   "execution_count": 29,
   "id": "d065f4f5",
   "metadata": {},
   "outputs": [
    {
     "data": {
      "text/plain": [
       "Desconto Abaixo da Media    8269\n",
       "Desconto Acima da Media     2374\n",
       "Name: faixa_desconto, dtype: int64"
      ]
     },
     "execution_count": 29,
     "metadata": {},
     "output_type": "execute_result"
    }
   ],
   "source": [
    "# Variável categórica nominal\n",
    "df.faixa_desconto.value_counts()"
   ]
  },
  {
   "cell_type": "code",
   "execution_count": 30,
   "id": "7dd8c1b4",
   "metadata": {},
   "outputs": [
    {
     "data": {
      "text/plain": [
       "Atraso na Entrega com Desconto Abaixo da Media    4361\n",
       "Entrega no Prazo com Desconto Abaixo da Media     3908\n",
       "Entrega no Prazo com Desconto Acima da Media      2374\n",
       "Name: performance_faixa_desconto, dtype: int64"
      ]
     },
     "execution_count": 30,
     "metadata": {},
     "output_type": "execute_result"
    }
   ],
   "source": [
    "# Variável categórica nominal\n",
    "df.performance_faixa_desconto.value_counts()"
   ]
  },
  {
   "cell_type": "code",
   "execution_count": 31,
   "id": "3a589680",
   "metadata": {},
   "outputs": [],
   "source": [
    "# Aplicando One-Hot Encoding\n",
    "for cat in ['corredor_armazem', \n",
    "            'performance_prioridade_envio', \n",
    "            'performance_modo_envio', \n",
    "            'faixa_desconto', \n",
    "            'performance_faixa_desconto']:\n",
    "    onehots = pd.get_dummies(df[cat], prefix = cat)\n",
    "    df = df.join(onehots)"
   ]
  },
  {
   "cell_type": "code",
   "execution_count": 32,
   "id": "9b342628",
   "metadata": {},
   "outputs": [
    {
     "data": {
      "text/plain": [
       "Index(['ID', 'corredor_armazem', 'modo_envio', 'numero_chamadas_cliente',\n",
       "       'avaliacao_cliente', 'custo_produto', 'compras_anteriores',\n",
       "       'prioridade_produto', 'genero', 'desconto', 'peso_gramas',\n",
       "       'entregue_no_prazo', 'performance_prioridade_envio',\n",
       "       'performance_modo_envio', 'faixa_desconto',\n",
       "       'performance_faixa_desconto', 'corredor_armazem_A',\n",
       "       'corredor_armazem_B', 'corredor_armazem_C', 'corredor_armazem_D',\n",
       "       'corredor_armazem_F', 'performance_prioridade_envio_Atraso Crítico',\n",
       "       'performance_prioridade_envio_Atraso Problemático',\n",
       "       'performance_prioridade_envio_Atraso Tolerável',\n",
       "       'performance_prioridade_envio_Não Houve Atraso',\n",
       "       'performance_modo_envio_Atraso Crítico na Entrega Por Aviao',\n",
       "       'performance_modo_envio_Atraso Crítico na Entrega Por Caminhao',\n",
       "       'performance_modo_envio_Atraso Crítico na Entrega Por Navio',\n",
       "       'performance_modo_envio_Atraso Problemático na Entrega Por Aviao',\n",
       "       'performance_modo_envio_Atraso Problemático na Entrega Por Caminhao',\n",
       "       'performance_modo_envio_Atraso Problemático na Entrega Por Navio',\n",
       "       'performance_modo_envio_Atraso Tolerável na Entrega Por Aviao',\n",
       "       'performance_modo_envio_Atraso Tolerável na Entrega Por Caminhao',\n",
       "       'performance_modo_envio_Atraso Tolerável na Entrega Por Navio',\n",
       "       'performance_modo_envio_Não Houve Atraso',\n",
       "       'faixa_desconto_Desconto Abaixo da Media',\n",
       "       'faixa_desconto_Desconto Acima da Media',\n",
       "       'performance_faixa_desconto_Atraso na Entrega com Desconto Abaixo da Media',\n",
       "       'performance_faixa_desconto_Entrega no Prazo com Desconto Abaixo da Media',\n",
       "       'performance_faixa_desconto_Entrega no Prazo com Desconto Acima da Media'],\n",
       "      dtype='object')"
      ]
     },
     "execution_count": 32,
     "metadata": {},
     "output_type": "execute_result"
    }
   ],
   "source": [
    "df.columns"
   ]
  },
  {
   "cell_type": "code",
   "execution_count": 33,
   "id": "19abbad1",
   "metadata": {},
   "outputs": [
    {
     "data": {
      "text/html": [
       "<div>\n",
       "<style scoped>\n",
       "    .dataframe tbody tr th:only-of-type {\n",
       "        vertical-align: middle;\n",
       "    }\n",
       "\n",
       "    .dataframe tbody tr th {\n",
       "        vertical-align: top;\n",
       "    }\n",
       "\n",
       "    .dataframe thead th {\n",
       "        text-align: right;\n",
       "    }\n",
       "</style>\n",
       "<table border=\"1\" class=\"dataframe\">\n",
       "  <thead>\n",
       "    <tr style=\"text-align: right;\">\n",
       "      <th></th>\n",
       "      <th>ID</th>\n",
       "      <th>corredor_armazem</th>\n",
       "      <th>modo_envio</th>\n",
       "      <th>numero_chamadas_cliente</th>\n",
       "      <th>avaliacao_cliente</th>\n",
       "      <th>custo_produto</th>\n",
       "      <th>compras_anteriores</th>\n",
       "      <th>prioridade_produto</th>\n",
       "      <th>genero</th>\n",
       "      <th>desconto</th>\n",
       "      <th>...</th>\n",
       "      <th>performance_modo_envio_Atraso Problemático na Entrega Por Navio</th>\n",
       "      <th>performance_modo_envio_Atraso Tolerável na Entrega Por Aviao</th>\n",
       "      <th>performance_modo_envio_Atraso Tolerável na Entrega Por Caminhao</th>\n",
       "      <th>performance_modo_envio_Atraso Tolerável na Entrega Por Navio</th>\n",
       "      <th>performance_modo_envio_Não Houve Atraso</th>\n",
       "      <th>faixa_desconto_Desconto Abaixo da Media</th>\n",
       "      <th>faixa_desconto_Desconto Acima da Media</th>\n",
       "      <th>performance_faixa_desconto_Atraso na Entrega com Desconto Abaixo da Media</th>\n",
       "      <th>performance_faixa_desconto_Entrega no Prazo com Desconto Abaixo da Media</th>\n",
       "      <th>performance_faixa_desconto_Entrega no Prazo com Desconto Acima da Media</th>\n",
       "    </tr>\n",
       "  </thead>\n",
       "  <tbody>\n",
       "    <tr>\n",
       "      <th>0</th>\n",
       "      <td>1</td>\n",
       "      <td>D</td>\n",
       "      <td>1</td>\n",
       "      <td>4</td>\n",
       "      <td>2</td>\n",
       "      <td>177</td>\n",
       "      <td>3</td>\n",
       "      <td>1</td>\n",
       "      <td>0</td>\n",
       "      <td>44</td>\n",
       "      <td>...</td>\n",
       "      <td>0</td>\n",
       "      <td>0</td>\n",
       "      <td>0</td>\n",
       "      <td>0</td>\n",
       "      <td>1</td>\n",
       "      <td>0</td>\n",
       "      <td>1</td>\n",
       "      <td>0</td>\n",
       "      <td>0</td>\n",
       "      <td>1</td>\n",
       "    </tr>\n",
       "    <tr>\n",
       "      <th>1</th>\n",
       "      <td>2</td>\n",
       "      <td>F</td>\n",
       "      <td>1</td>\n",
       "      <td>4</td>\n",
       "      <td>5</td>\n",
       "      <td>216</td>\n",
       "      <td>2</td>\n",
       "      <td>1</td>\n",
       "      <td>1</td>\n",
       "      <td>59</td>\n",
       "      <td>...</td>\n",
       "      <td>0</td>\n",
       "      <td>0</td>\n",
       "      <td>0</td>\n",
       "      <td>0</td>\n",
       "      <td>1</td>\n",
       "      <td>0</td>\n",
       "      <td>1</td>\n",
       "      <td>0</td>\n",
       "      <td>0</td>\n",
       "      <td>1</td>\n",
       "    </tr>\n",
       "    <tr>\n",
       "      <th>2</th>\n",
       "      <td>3</td>\n",
       "      <td>A</td>\n",
       "      <td>1</td>\n",
       "      <td>2</td>\n",
       "      <td>2</td>\n",
       "      <td>183</td>\n",
       "      <td>4</td>\n",
       "      <td>1</td>\n",
       "      <td>1</td>\n",
       "      <td>48</td>\n",
       "      <td>...</td>\n",
       "      <td>0</td>\n",
       "      <td>0</td>\n",
       "      <td>0</td>\n",
       "      <td>0</td>\n",
       "      <td>1</td>\n",
       "      <td>0</td>\n",
       "      <td>1</td>\n",
       "      <td>0</td>\n",
       "      <td>0</td>\n",
       "      <td>1</td>\n",
       "    </tr>\n",
       "    <tr>\n",
       "      <th>3</th>\n",
       "      <td>4</td>\n",
       "      <td>B</td>\n",
       "      <td>1</td>\n",
       "      <td>3</td>\n",
       "      <td>3</td>\n",
       "      <td>176</td>\n",
       "      <td>4</td>\n",
       "      <td>2</td>\n",
       "      <td>1</td>\n",
       "      <td>10</td>\n",
       "      <td>...</td>\n",
       "      <td>0</td>\n",
       "      <td>0</td>\n",
       "      <td>0</td>\n",
       "      <td>0</td>\n",
       "      <td>1</td>\n",
       "      <td>1</td>\n",
       "      <td>0</td>\n",
       "      <td>0</td>\n",
       "      <td>1</td>\n",
       "      <td>0</td>\n",
       "    </tr>\n",
       "    <tr>\n",
       "      <th>4</th>\n",
       "      <td>5</td>\n",
       "      <td>C</td>\n",
       "      <td>1</td>\n",
       "      <td>2</td>\n",
       "      <td>2</td>\n",
       "      <td>184</td>\n",
       "      <td>3</td>\n",
       "      <td>2</td>\n",
       "      <td>0</td>\n",
       "      <td>46</td>\n",
       "      <td>...</td>\n",
       "      <td>0</td>\n",
       "      <td>0</td>\n",
       "      <td>0</td>\n",
       "      <td>0</td>\n",
       "      <td>1</td>\n",
       "      <td>0</td>\n",
       "      <td>1</td>\n",
       "      <td>0</td>\n",
       "      <td>0</td>\n",
       "      <td>1</td>\n",
       "    </tr>\n",
       "  </tbody>\n",
       "</table>\n",
       "<p>5 rows × 40 columns</p>\n",
       "</div>"
      ],
      "text/plain": [
       "   ID corredor_armazem  modo_envio  numero_chamadas_cliente  \\\n",
       "0   1                D           1                        4   \n",
       "1   2                F           1                        4   \n",
       "2   3                A           1                        2   \n",
       "3   4                B           1                        3   \n",
       "4   5                C           1                        2   \n",
       "\n",
       "   avaliacao_cliente  custo_produto  compras_anteriores  prioridade_produto  \\\n",
       "0                  2            177                   3                   1   \n",
       "1                  5            216                   2                   1   \n",
       "2                  2            183                   4                   1   \n",
       "3                  3            176                   4                   2   \n",
       "4                  2            184                   3                   2   \n",
       "\n",
       "   genero  desconto  ...  \\\n",
       "0       0        44  ...   \n",
       "1       1        59  ...   \n",
       "2       1        48  ...   \n",
       "3       1        10  ...   \n",
       "4       0        46  ...   \n",
       "\n",
       "   performance_modo_envio_Atraso Problemático na Entrega Por Navio  \\\n",
       "0                                                  0                 \n",
       "1                                                  0                 \n",
       "2                                                  0                 \n",
       "3                                                  0                 \n",
       "4                                                  0                 \n",
       "\n",
       "   performance_modo_envio_Atraso Tolerável na Entrega Por Aviao  \\\n",
       "0                                                  0              \n",
       "1                                                  0              \n",
       "2                                                  0              \n",
       "3                                                  0              \n",
       "4                                                  0              \n",
       "\n",
       "  performance_modo_envio_Atraso Tolerável na Entrega Por Caminhao  \\\n",
       "0                                                  0                \n",
       "1                                                  0                \n",
       "2                                                  0                \n",
       "3                                                  0                \n",
       "4                                                  0                \n",
       "\n",
       "  performance_modo_envio_Atraso Tolerável na Entrega Por Navio  \\\n",
       "0                                                  0             \n",
       "1                                                  0             \n",
       "2                                                  0             \n",
       "3                                                  0             \n",
       "4                                                  0             \n",
       "\n",
       "  performance_modo_envio_Não Houve Atraso  \\\n",
       "0                                       1   \n",
       "1                                       1   \n",
       "2                                       1   \n",
       "3                                       1   \n",
       "4                                       1   \n",
       "\n",
       "  faixa_desconto_Desconto Abaixo da Media  \\\n",
       "0                                       0   \n",
       "1                                       0   \n",
       "2                                       0   \n",
       "3                                       1   \n",
       "4                                       0   \n",
       "\n",
       "   faixa_desconto_Desconto Acima da Media  \\\n",
       "0                                       1   \n",
       "1                                       1   \n",
       "2                                       1   \n",
       "3                                       0   \n",
       "4                                       1   \n",
       "\n",
       "   performance_faixa_desconto_Atraso na Entrega com Desconto Abaixo da Media  \\\n",
       "0                                                  0                           \n",
       "1                                                  0                           \n",
       "2                                                  0                           \n",
       "3                                                  0                           \n",
       "4                                                  0                           \n",
       "\n",
       "   performance_faixa_desconto_Entrega no Prazo com Desconto Abaixo da Media  \\\n",
       "0                                                  0                          \n",
       "1                                                  0                          \n",
       "2                                                  0                          \n",
       "3                                                  1                          \n",
       "4                                                  0                          \n",
       "\n",
       "   performance_faixa_desconto_Entrega no Prazo com Desconto Acima da Media  \n",
       "0                                                  1                        \n",
       "1                                                  1                        \n",
       "2                                                  1                        \n",
       "3                                                  0                        \n",
       "4                                                  1                        \n",
       "\n",
       "[5 rows x 40 columns]"
      ]
     },
     "execution_count": 33,
     "metadata": {},
     "output_type": "execute_result"
    }
   ],
   "source": [
    "df.head()"
   ]
  },
  {
   "cell_type": "code",
   "execution_count": 34,
   "id": "dba4dec5",
   "metadata": {},
   "outputs": [],
   "source": [
    "# Não precisaremos mais das colunas originais após aplicar One-Hot Encoding\n",
    "df = df.drop(columns = ['corredor_armazem', \n",
    "                        'performance_prioridade_envio', \n",
    "                        'performance_modo_envio', \n",
    "                        'faixa_desconto', \n",
    "                        'performance_faixa_desconto'])"
   ]
  },
  {
   "cell_type": "code",
   "execution_count": 35,
   "id": "04544afd",
   "metadata": {},
   "outputs": [],
   "source": [
    "# Podemos remover a coluna ID\n",
    "df = df.drop(columns = ['ID'])"
   ]
  },
  {
   "cell_type": "code",
   "execution_count": 36,
   "id": "a14a985d",
   "metadata": {},
   "outputs": [
    {
     "data": {
      "text/plain": [
       "34"
      ]
     },
     "execution_count": 36,
     "metadata": {},
     "output_type": "execute_result"
    }
   ],
   "source": [
    "len(df.columns)"
   ]
  },
  {
   "cell_type": "code",
   "execution_count": 37,
   "id": "6bef3f05",
   "metadata": {
    "scrolled": true
   },
   "outputs": [
    {
     "data": {
      "text/html": [
       "<div>\n",
       "<style scoped>\n",
       "    .dataframe tbody tr th:only-of-type {\n",
       "        vertical-align: middle;\n",
       "    }\n",
       "\n",
       "    .dataframe tbody tr th {\n",
       "        vertical-align: top;\n",
       "    }\n",
       "\n",
       "    .dataframe thead th {\n",
       "        text-align: right;\n",
       "    }\n",
       "</style>\n",
       "<table border=\"1\" class=\"dataframe\">\n",
       "  <thead>\n",
       "    <tr style=\"text-align: right;\">\n",
       "      <th></th>\n",
       "      <th>modo_envio</th>\n",
       "      <th>numero_chamadas_cliente</th>\n",
       "      <th>avaliacao_cliente</th>\n",
       "      <th>custo_produto</th>\n",
       "      <th>compras_anteriores</th>\n",
       "      <th>prioridade_produto</th>\n",
       "      <th>genero</th>\n",
       "      <th>desconto</th>\n",
       "      <th>peso_gramas</th>\n",
       "      <th>entregue_no_prazo</th>\n",
       "      <th>...</th>\n",
       "      <th>performance_modo_envio_Atraso Problemático na Entrega Por Navio</th>\n",
       "      <th>performance_modo_envio_Atraso Tolerável na Entrega Por Aviao</th>\n",
       "      <th>performance_modo_envio_Atraso Tolerável na Entrega Por Caminhao</th>\n",
       "      <th>performance_modo_envio_Atraso Tolerável na Entrega Por Navio</th>\n",
       "      <th>performance_modo_envio_Não Houve Atraso</th>\n",
       "      <th>faixa_desconto_Desconto Abaixo da Media</th>\n",
       "      <th>faixa_desconto_Desconto Acima da Media</th>\n",
       "      <th>performance_faixa_desconto_Atraso na Entrega com Desconto Abaixo da Media</th>\n",
       "      <th>performance_faixa_desconto_Entrega no Prazo com Desconto Abaixo da Media</th>\n",
       "      <th>performance_faixa_desconto_Entrega no Prazo com Desconto Acima da Media</th>\n",
       "    </tr>\n",
       "  </thead>\n",
       "  <tbody>\n",
       "    <tr>\n",
       "      <th>0</th>\n",
       "      <td>1</td>\n",
       "      <td>4</td>\n",
       "      <td>2</td>\n",
       "      <td>177</td>\n",
       "      <td>3</td>\n",
       "      <td>1</td>\n",
       "      <td>0</td>\n",
       "      <td>44</td>\n",
       "      <td>1233</td>\n",
       "      <td>1</td>\n",
       "      <td>...</td>\n",
       "      <td>0</td>\n",
       "      <td>0</td>\n",
       "      <td>0</td>\n",
       "      <td>0</td>\n",
       "      <td>1</td>\n",
       "      <td>0</td>\n",
       "      <td>1</td>\n",
       "      <td>0</td>\n",
       "      <td>0</td>\n",
       "      <td>1</td>\n",
       "    </tr>\n",
       "    <tr>\n",
       "      <th>1</th>\n",
       "      <td>1</td>\n",
       "      <td>4</td>\n",
       "      <td>5</td>\n",
       "      <td>216</td>\n",
       "      <td>2</td>\n",
       "      <td>1</td>\n",
       "      <td>1</td>\n",
       "      <td>59</td>\n",
       "      <td>3088</td>\n",
       "      <td>1</td>\n",
       "      <td>...</td>\n",
       "      <td>0</td>\n",
       "      <td>0</td>\n",
       "      <td>0</td>\n",
       "      <td>0</td>\n",
       "      <td>1</td>\n",
       "      <td>0</td>\n",
       "      <td>1</td>\n",
       "      <td>0</td>\n",
       "      <td>0</td>\n",
       "      <td>1</td>\n",
       "    </tr>\n",
       "    <tr>\n",
       "      <th>2</th>\n",
       "      <td>1</td>\n",
       "      <td>2</td>\n",
       "      <td>2</td>\n",
       "      <td>183</td>\n",
       "      <td>4</td>\n",
       "      <td>1</td>\n",
       "      <td>1</td>\n",
       "      <td>48</td>\n",
       "      <td>3374</td>\n",
       "      <td>1</td>\n",
       "      <td>...</td>\n",
       "      <td>0</td>\n",
       "      <td>0</td>\n",
       "      <td>0</td>\n",
       "      <td>0</td>\n",
       "      <td>1</td>\n",
       "      <td>0</td>\n",
       "      <td>1</td>\n",
       "      <td>0</td>\n",
       "      <td>0</td>\n",
       "      <td>1</td>\n",
       "    </tr>\n",
       "    <tr>\n",
       "      <th>3</th>\n",
       "      <td>1</td>\n",
       "      <td>3</td>\n",
       "      <td>3</td>\n",
       "      <td>176</td>\n",
       "      <td>4</td>\n",
       "      <td>2</td>\n",
       "      <td>1</td>\n",
       "      <td>10</td>\n",
       "      <td>1177</td>\n",
       "      <td>1</td>\n",
       "      <td>...</td>\n",
       "      <td>0</td>\n",
       "      <td>0</td>\n",
       "      <td>0</td>\n",
       "      <td>0</td>\n",
       "      <td>1</td>\n",
       "      <td>1</td>\n",
       "      <td>0</td>\n",
       "      <td>0</td>\n",
       "      <td>1</td>\n",
       "      <td>0</td>\n",
       "    </tr>\n",
       "    <tr>\n",
       "      <th>4</th>\n",
       "      <td>1</td>\n",
       "      <td>2</td>\n",
       "      <td>2</td>\n",
       "      <td>184</td>\n",
       "      <td>3</td>\n",
       "      <td>2</td>\n",
       "      <td>0</td>\n",
       "      <td>46</td>\n",
       "      <td>2484</td>\n",
       "      <td>1</td>\n",
       "      <td>...</td>\n",
       "      <td>0</td>\n",
       "      <td>0</td>\n",
       "      <td>0</td>\n",
       "      <td>0</td>\n",
       "      <td>1</td>\n",
       "      <td>0</td>\n",
       "      <td>1</td>\n",
       "      <td>0</td>\n",
       "      <td>0</td>\n",
       "      <td>1</td>\n",
       "    </tr>\n",
       "  </tbody>\n",
       "</table>\n",
       "<p>5 rows × 34 columns</p>\n",
       "</div>"
      ],
      "text/plain": [
       "   modo_envio  numero_chamadas_cliente  avaliacao_cliente  custo_produto  \\\n",
       "0           1                        4                  2            177   \n",
       "1           1                        4                  5            216   \n",
       "2           1                        2                  2            183   \n",
       "3           1                        3                  3            176   \n",
       "4           1                        2                  2            184   \n",
       "\n",
       "   compras_anteriores  prioridade_produto  genero  desconto  peso_gramas  \\\n",
       "0                   3                   1       0        44         1233   \n",
       "1                   2                   1       1        59         3088   \n",
       "2                   4                   1       1        48         3374   \n",
       "3                   4                   2       1        10         1177   \n",
       "4                   3                   2       0        46         2484   \n",
       "\n",
       "   entregue_no_prazo  ...  \\\n",
       "0                  1  ...   \n",
       "1                  1  ...   \n",
       "2                  1  ...   \n",
       "3                  1  ...   \n",
       "4                  1  ...   \n",
       "\n",
       "   performance_modo_envio_Atraso Problemático na Entrega Por Navio  \\\n",
       "0                                                  0                 \n",
       "1                                                  0                 \n",
       "2                                                  0                 \n",
       "3                                                  0                 \n",
       "4                                                  0                 \n",
       "\n",
       "   performance_modo_envio_Atraso Tolerável na Entrega Por Aviao  \\\n",
       "0                                                  0              \n",
       "1                                                  0              \n",
       "2                                                  0              \n",
       "3                                                  0              \n",
       "4                                                  0              \n",
       "\n",
       "   performance_modo_envio_Atraso Tolerável na Entrega Por Caminhao  \\\n",
       "0                                                  0                 \n",
       "1                                                  0                 \n",
       "2                                                  0                 \n",
       "3                                                  0                 \n",
       "4                                                  0                 \n",
       "\n",
       "   performance_modo_envio_Atraso Tolerável na Entrega Por Navio  \\\n",
       "0                                                  0              \n",
       "1                                                  0              \n",
       "2                                                  0              \n",
       "3                                                  0              \n",
       "4                                                  0              \n",
       "\n",
       "   performance_modo_envio_Não Houve Atraso  \\\n",
       "0                                        1   \n",
       "1                                        1   \n",
       "2                                        1   \n",
       "3                                        1   \n",
       "4                                        1   \n",
       "\n",
       "   faixa_desconto_Desconto Abaixo da Media  \\\n",
       "0                                        0   \n",
       "1                                        0   \n",
       "2                                        0   \n",
       "3                                        1   \n",
       "4                                        0   \n",
       "\n",
       "   faixa_desconto_Desconto Acima da Media  \\\n",
       "0                                       1   \n",
       "1                                       1   \n",
       "2                                       1   \n",
       "3                                       0   \n",
       "4                                       1   \n",
       "\n",
       "   performance_faixa_desconto_Atraso na Entrega com Desconto Abaixo da Media  \\\n",
       "0                                                  0                           \n",
       "1                                                  0                           \n",
       "2                                                  0                           \n",
       "3                                                  0                           \n",
       "4                                                  0                           \n",
       "\n",
       "   performance_faixa_desconto_Entrega no Prazo com Desconto Abaixo da Media  \\\n",
       "0                                                  0                          \n",
       "1                                                  0                          \n",
       "2                                                  0                          \n",
       "3                                                  1                          \n",
       "4                                                  0                          \n",
       "\n",
       "   performance_faixa_desconto_Entrega no Prazo com Desconto Acima da Media  \n",
       "0                                                  1                        \n",
       "1                                                  1                        \n",
       "2                                                  1                        \n",
       "3                                                  0                        \n",
       "4                                                  1                        \n",
       "\n",
       "[5 rows x 34 columns]"
      ]
     },
     "execution_count": 37,
     "metadata": {},
     "output_type": "execute_result"
    }
   ],
   "source": [
    "df.head()"
   ]
  },
  {
   "cell_type": "markdown",
   "id": "0834504f",
   "metadata": {},
   "source": [
    "> # Variaveis Numericas"
   ]
  },
  {
   "cell_type": "markdown",
   "id": "d54448db",
   "metadata": {},
   "source": [
    "## Fature Scaling\n",
    "\n",
    "- A classe MinMaxScaler() de sklearn.preprocessing é usada para normalização de recursos.\n",
    "\n",
    "- A classe StandardScaler() de sklearn.preprocessing é usada para padronização de recursos."
   ]
  },
  {
   "cell_type": "code",
   "execution_count": 38,
   "id": "71beaf30",
   "metadata": {},
   "outputs": [
    {
     "data": {
      "text/html": [
       "<div>\n",
       "<style scoped>\n",
       "    .dataframe tbody tr th:only-of-type {\n",
       "        vertical-align: middle;\n",
       "    }\n",
       "\n",
       "    .dataframe tbody tr th {\n",
       "        vertical-align: top;\n",
       "    }\n",
       "\n",
       "    .dataframe thead th {\n",
       "        text-align: right;\n",
       "    }\n",
       "</style>\n",
       "<table border=\"1\" class=\"dataframe\">\n",
       "  <thead>\n",
       "    <tr style=\"text-align: right;\">\n",
       "      <th></th>\n",
       "      <th>modo_envio</th>\n",
       "      <th>numero_chamadas_cliente</th>\n",
       "      <th>avaliacao_cliente</th>\n",
       "      <th>custo_produto</th>\n",
       "      <th>compras_anteriores</th>\n",
       "      <th>prioridade_produto</th>\n",
       "      <th>genero</th>\n",
       "      <th>desconto</th>\n",
       "      <th>peso_gramas</th>\n",
       "      <th>entregue_no_prazo</th>\n",
       "      <th>...</th>\n",
       "      <th>performance_modo_envio_Atraso Problemático na Entrega Por Navio</th>\n",
       "      <th>performance_modo_envio_Atraso Tolerável na Entrega Por Aviao</th>\n",
       "      <th>performance_modo_envio_Atraso Tolerável na Entrega Por Caminhao</th>\n",
       "      <th>performance_modo_envio_Atraso Tolerável na Entrega Por Navio</th>\n",
       "      <th>performance_modo_envio_Não Houve Atraso</th>\n",
       "      <th>faixa_desconto_Desconto Abaixo da Media</th>\n",
       "      <th>faixa_desconto_Desconto Acima da Media</th>\n",
       "      <th>performance_faixa_desconto_Atraso na Entrega com Desconto Abaixo da Media</th>\n",
       "      <th>performance_faixa_desconto_Entrega no Prazo com Desconto Abaixo da Media</th>\n",
       "      <th>performance_faixa_desconto_Entrega no Prazo com Desconto Acima da Media</th>\n",
       "    </tr>\n",
       "  </thead>\n",
       "  <tbody>\n",
       "    <tr>\n",
       "      <th>0</th>\n",
       "      <td>1</td>\n",
       "      <td>4</td>\n",
       "      <td>2</td>\n",
       "      <td>177</td>\n",
       "      <td>3</td>\n",
       "      <td>1</td>\n",
       "      <td>0</td>\n",
       "      <td>44</td>\n",
       "      <td>1233</td>\n",
       "      <td>1</td>\n",
       "      <td>...</td>\n",
       "      <td>0</td>\n",
       "      <td>0</td>\n",
       "      <td>0</td>\n",
       "      <td>0</td>\n",
       "      <td>1</td>\n",
       "      <td>0</td>\n",
       "      <td>1</td>\n",
       "      <td>0</td>\n",
       "      <td>0</td>\n",
       "      <td>1</td>\n",
       "    </tr>\n",
       "    <tr>\n",
       "      <th>1</th>\n",
       "      <td>1</td>\n",
       "      <td>4</td>\n",
       "      <td>5</td>\n",
       "      <td>216</td>\n",
       "      <td>2</td>\n",
       "      <td>1</td>\n",
       "      <td>1</td>\n",
       "      <td>59</td>\n",
       "      <td>3088</td>\n",
       "      <td>1</td>\n",
       "      <td>...</td>\n",
       "      <td>0</td>\n",
       "      <td>0</td>\n",
       "      <td>0</td>\n",
       "      <td>0</td>\n",
       "      <td>1</td>\n",
       "      <td>0</td>\n",
       "      <td>1</td>\n",
       "      <td>0</td>\n",
       "      <td>0</td>\n",
       "      <td>1</td>\n",
       "    </tr>\n",
       "    <tr>\n",
       "      <th>2</th>\n",
       "      <td>1</td>\n",
       "      <td>2</td>\n",
       "      <td>2</td>\n",
       "      <td>183</td>\n",
       "      <td>4</td>\n",
       "      <td>1</td>\n",
       "      <td>1</td>\n",
       "      <td>48</td>\n",
       "      <td>3374</td>\n",
       "      <td>1</td>\n",
       "      <td>...</td>\n",
       "      <td>0</td>\n",
       "      <td>0</td>\n",
       "      <td>0</td>\n",
       "      <td>0</td>\n",
       "      <td>1</td>\n",
       "      <td>0</td>\n",
       "      <td>1</td>\n",
       "      <td>0</td>\n",
       "      <td>0</td>\n",
       "      <td>1</td>\n",
       "    </tr>\n",
       "    <tr>\n",
       "      <th>3</th>\n",
       "      <td>1</td>\n",
       "      <td>3</td>\n",
       "      <td>3</td>\n",
       "      <td>176</td>\n",
       "      <td>4</td>\n",
       "      <td>2</td>\n",
       "      <td>1</td>\n",
       "      <td>10</td>\n",
       "      <td>1177</td>\n",
       "      <td>1</td>\n",
       "      <td>...</td>\n",
       "      <td>0</td>\n",
       "      <td>0</td>\n",
       "      <td>0</td>\n",
       "      <td>0</td>\n",
       "      <td>1</td>\n",
       "      <td>1</td>\n",
       "      <td>0</td>\n",
       "      <td>0</td>\n",
       "      <td>1</td>\n",
       "      <td>0</td>\n",
       "    </tr>\n",
       "    <tr>\n",
       "      <th>4</th>\n",
       "      <td>1</td>\n",
       "      <td>2</td>\n",
       "      <td>2</td>\n",
       "      <td>184</td>\n",
       "      <td>3</td>\n",
       "      <td>2</td>\n",
       "      <td>0</td>\n",
       "      <td>46</td>\n",
       "      <td>2484</td>\n",
       "      <td>1</td>\n",
       "      <td>...</td>\n",
       "      <td>0</td>\n",
       "      <td>0</td>\n",
       "      <td>0</td>\n",
       "      <td>0</td>\n",
       "      <td>1</td>\n",
       "      <td>0</td>\n",
       "      <td>1</td>\n",
       "      <td>0</td>\n",
       "      <td>0</td>\n",
       "      <td>1</td>\n",
       "    </tr>\n",
       "  </tbody>\n",
       "</table>\n",
       "<p>5 rows × 34 columns</p>\n",
       "</div>"
      ],
      "text/plain": [
       "   modo_envio  numero_chamadas_cliente  avaliacao_cliente  custo_produto  \\\n",
       "0           1                        4                  2            177   \n",
       "1           1                        4                  5            216   \n",
       "2           1                        2                  2            183   \n",
       "3           1                        3                  3            176   \n",
       "4           1                        2                  2            184   \n",
       "\n",
       "   compras_anteriores  prioridade_produto  genero  desconto  peso_gramas  \\\n",
       "0                   3                   1       0        44         1233   \n",
       "1                   2                   1       1        59         3088   \n",
       "2                   4                   1       1        48         3374   \n",
       "3                   4                   2       1        10         1177   \n",
       "4                   3                   2       0        46         2484   \n",
       "\n",
       "   entregue_no_prazo  ...  \\\n",
       "0                  1  ...   \n",
       "1                  1  ...   \n",
       "2                  1  ...   \n",
       "3                  1  ...   \n",
       "4                  1  ...   \n",
       "\n",
       "   performance_modo_envio_Atraso Problemático na Entrega Por Navio  \\\n",
       "0                                                  0                 \n",
       "1                                                  0                 \n",
       "2                                                  0                 \n",
       "3                                                  0                 \n",
       "4                                                  0                 \n",
       "\n",
       "   performance_modo_envio_Atraso Tolerável na Entrega Por Aviao  \\\n",
       "0                                                  0              \n",
       "1                                                  0              \n",
       "2                                                  0              \n",
       "3                                                  0              \n",
       "4                                                  0              \n",
       "\n",
       "   performance_modo_envio_Atraso Tolerável na Entrega Por Caminhao  \\\n",
       "0                                                  0                 \n",
       "1                                                  0                 \n",
       "2                                                  0                 \n",
       "3                                                  0                 \n",
       "4                                                  0                 \n",
       "\n",
       "   performance_modo_envio_Atraso Tolerável na Entrega Por Navio  \\\n",
       "0                                                  0              \n",
       "1                                                  0              \n",
       "2                                                  0              \n",
       "3                                                  0              \n",
       "4                                                  0              \n",
       "\n",
       "   performance_modo_envio_Não Houve Atraso  \\\n",
       "0                                        1   \n",
       "1                                        1   \n",
       "2                                        1   \n",
       "3                                        1   \n",
       "4                                        1   \n",
       "\n",
       "   faixa_desconto_Desconto Abaixo da Media  \\\n",
       "0                                        0   \n",
       "1                                        0   \n",
       "2                                        0   \n",
       "3                                        1   \n",
       "4                                        0   \n",
       "\n",
       "   faixa_desconto_Desconto Acima da Media  \\\n",
       "0                                       1   \n",
       "1                                       1   \n",
       "2                                       1   \n",
       "3                                       0   \n",
       "4                                       1   \n",
       "\n",
       "   performance_faixa_desconto_Atraso na Entrega com Desconto Abaixo da Media  \\\n",
       "0                                                  0                           \n",
       "1                                                  0                           \n",
       "2                                                  0                           \n",
       "3                                                  0                           \n",
       "4                                                  0                           \n",
       "\n",
       "   performance_faixa_desconto_Entrega no Prazo com Desconto Abaixo da Media  \\\n",
       "0                                                  0                          \n",
       "1                                                  0                          \n",
       "2                                                  0                          \n",
       "3                                                  1                          \n",
       "4                                                  0                          \n",
       "\n",
       "   performance_faixa_desconto_Entrega no Prazo com Desconto Acima da Media  \n",
       "0                                                  1                        \n",
       "1                                                  1                        \n",
       "2                                                  1                        \n",
       "3                                                  0                        \n",
       "4                                                  1                        \n",
       "\n",
       "[5 rows x 34 columns]"
      ]
     },
     "execution_count": 38,
     "metadata": {},
     "output_type": "execute_result"
    }
   ],
   "source": [
    "# AQUI PODEMOS PERCEBER QUE OS DADOS ESTÃO EM ESCALAS DIFERENTES\n",
    "df.head()"
   ]
  },
  {
   "cell_type": "code",
   "execution_count": 39,
   "id": "ae450025",
   "metadata": {},
   "outputs": [
    {
     "data": {
      "text/plain": [
       "Index(['modo_envio', 'numero_chamadas_cliente', 'avaliacao_cliente',\n",
       "       'custo_produto', 'compras_anteriores', 'prioridade_produto', 'genero',\n",
       "       'desconto', 'peso_gramas', 'entregue_no_prazo', 'corredor_armazem_A',\n",
       "       'corredor_armazem_B', 'corredor_armazem_C', 'corredor_armazem_D',\n",
       "       'corredor_armazem_F', 'performance_prioridade_envio_Atraso Crítico',\n",
       "       'performance_prioridade_envio_Atraso Problemático',\n",
       "       'performance_prioridade_envio_Atraso Tolerável',\n",
       "       'performance_prioridade_envio_Não Houve Atraso',\n",
       "       'performance_modo_envio_Atraso Crítico na Entrega Por Aviao',\n",
       "       'performance_modo_envio_Atraso Crítico na Entrega Por Caminhao',\n",
       "       'performance_modo_envio_Atraso Crítico na Entrega Por Navio',\n",
       "       'performance_modo_envio_Atraso Problemático na Entrega Por Aviao',\n",
       "       'performance_modo_envio_Atraso Problemático na Entrega Por Caminhao',\n",
       "       'performance_modo_envio_Atraso Problemático na Entrega Por Navio',\n",
       "       'performance_modo_envio_Atraso Tolerável na Entrega Por Aviao',\n",
       "       'performance_modo_envio_Atraso Tolerável na Entrega Por Caminhao',\n",
       "       'performance_modo_envio_Atraso Tolerável na Entrega Por Navio',\n",
       "       'performance_modo_envio_Não Houve Atraso',\n",
       "       'faixa_desconto_Desconto Abaixo da Media',\n",
       "       'faixa_desconto_Desconto Acima da Media',\n",
       "       'performance_faixa_desconto_Atraso na Entrega com Desconto Abaixo da Media',\n",
       "       'performance_faixa_desconto_Entrega no Prazo com Desconto Abaixo da Media',\n",
       "       'performance_faixa_desconto_Entrega no Prazo com Desconto Acima da Media'],\n",
       "      dtype='object')"
      ]
     },
     "execution_count": 39,
     "metadata": {},
     "output_type": "execute_result"
    }
   ],
   "source": [
    "df.columns"
   ]
  },
  {
   "cell_type": "markdown",
   "id": "177e150b",
   "metadata": {},
   "source": [
    " > # Normalização: MinMaxScaler()"
   ]
  },
  {
   "cell_type": "markdown",
   "id": "0b987d15",
   "metadata": {},
   "source": [
    "**ATENÇÃO**: No caso de normalizar o conjunto de dados de treinamento e teste, o estimador MinMaxScaler() terá o fit() no conjunto de dados de treinamento e o mesmo estimador será usado para transformar o conjunto de dados de treinamento e teste. O mesmo estimador também deve ser usado em novos dados ao fazer previsões com o modelo."
   ]
  },
  {
   "cell_type": "markdown",
   "id": "8e4faace",
   "metadata": {},
   "source": [
    "> **peso_gramas**"
   ]
  },
  {
   "cell_type": "code",
   "execution_count": 40,
   "id": "d5731c0c",
   "metadata": {},
   "outputs": [
    {
     "data": {
      "text/plain": [
       "4309     4914\n",
       "2255     1961\n",
       "10843    5578\n",
       "3586     5876\n",
       "6655     5378\n",
       "Name: peso_gramas, dtype: int64"
      ]
     },
     "execution_count": 40,
     "metadata": {},
     "output_type": "execute_result"
    }
   ],
   "source": [
    "df.peso_gramas.sample(5)"
   ]
  },
  {
   "cell_type": "code",
   "execution_count": 41,
   "id": "c3757f6b",
   "metadata": {},
   "outputs": [],
   "source": [
    "df['peso_gramas'] = MinMaxScaler().fit_transform(df['peso_gramas'].values.reshape(len(df), 1))"
   ]
  },
  {
   "cell_type": "code",
   "execution_count": 42,
   "id": "329cd039",
   "metadata": {},
   "outputs": [
    {
     "data": {
      "text/plain": [
       "10964    0.122863\n",
       "5313     0.652739\n",
       "5083     0.673484\n",
       "8444     0.610519\n",
       "3719     0.482396\n",
       "Name: peso_gramas, dtype: float64"
      ]
     },
     "execution_count": 42,
     "metadata": {},
     "output_type": "execute_result"
    }
   ],
   "source": [
    "# Agora todos os valores da varivél estão entre 0 e 1\n",
    "df.peso_gramas.sample(5)"
   ]
  },
  {
   "cell_type": "markdown",
   "id": "a627b405",
   "metadata": {},
   "source": [
    "> **custo_produto**"
   ]
  },
  {
   "cell_type": "code",
   "execution_count": 43,
   "id": "62182fbc",
   "metadata": {},
   "outputs": [
    {
     "data": {
      "text/plain": [
       "2479    257\n",
       "3004    196\n",
       "4361    172\n",
       "1247    197\n",
       "8799    248\n",
       "Name: custo_produto, dtype: int64"
      ]
     },
     "execution_count": 43,
     "metadata": {},
     "output_type": "execute_result"
    }
   ],
   "source": [
    "df.custo_produto.sample(5)"
   ]
  },
  {
   "cell_type": "code",
   "execution_count": 44,
   "id": "202da923",
   "metadata": {},
   "outputs": [],
   "source": [
    "df['custo_produto'] = MinMaxScaler().fit_transform(df['custo_produto'].values.reshape(len(df), 1))"
   ]
  },
  {
   "cell_type": "code",
   "execution_count": 45,
   "id": "9e029140",
   "metadata": {},
   "outputs": [
    {
     "data": {
      "text/plain": [
       "10362    0.565421\n",
       "5538     0.752336\n",
       "7166     0.771028\n",
       "5681     0.621495\n",
       "617      0.696262\n",
       "1021     0.607477\n",
       "3303     0.588785\n",
       "9763     0.537383\n",
       "2474     0.542056\n",
       "7950     0.775701\n",
       "Name: custo_produto, dtype: float64"
      ]
     },
     "execution_count": 45,
     "metadata": {},
     "output_type": "execute_result"
    }
   ],
   "source": [
    "# Agora todos os valores da varivél estão entre 0 e 1\n",
    "df.custo_produto.sample(10)"
   ]
  },
  {
   "cell_type": "markdown",
   "id": "9308a0fd",
   "metadata": {},
   "source": [
    " > # Padronização: StandardScaler"
   ]
  },
  {
   "cell_type": "markdown",
   "id": "c411fab9",
   "metadata": {},
   "source": [
    "**ATENÇÃO**: No caso de padronizar o conjunto de dados de treinamento e teste, o estimador StandardScaler() terá o fit() no conjunto de dados de treinamento e o mesmo estimador será usado para transformar o conjunto de dados de treinamento e teste. O mesmo estimador também deve ser usado em novos dados ao fazer previsões com o modelo."
   ]
  },
  {
   "cell_type": "markdown",
   "id": "78126de6",
   "metadata": {},
   "source": [
    "> **desconto**"
   ]
  },
  {
   "cell_type": "code",
   "execution_count": 46,
   "id": "e0ac1eef",
   "metadata": {},
   "outputs": [],
   "source": [
    "df['desconto'] = StandardScaler().fit_transform(df['desconto'].values.reshape(len(df), 1))"
   ]
  },
  {
   "cell_type": "code",
   "execution_count": 47,
   "id": "5d73e46a",
   "metadata": {},
   "outputs": [
    {
     "data": {
      "text/plain": [
       "4686    -0.502162\n",
       "7767    -0.235340\n",
       "10262   -0.368751\n",
       "3596    -0.235340\n",
       "9302    -0.435457\n",
       "9576    -0.635573\n",
       "8739    -0.568868\n",
       "2512     1.765825\n",
       "2430     0.431715\n",
       "8929    -0.702279\n",
       "Name: desconto, dtype: float64"
      ]
     },
     "execution_count": 47,
     "metadata": {},
     "output_type": "execute_result"
    }
   ],
   "source": [
    "df.desconto.sample(10)"
   ]
  },
  {
   "cell_type": "markdown",
   "id": "eac7a7ae",
   "metadata": {},
   "source": [
    "> **numero_chamadas_cliente**"
   ]
  },
  {
   "cell_type": "code",
   "execution_count": 48,
   "id": "71d1283d",
   "metadata": {},
   "outputs": [],
   "source": [
    "df['numero_chamadas_cliente'] = StandardScaler().fit_transform(df['numero_chamadas_cliente'].values.reshape(len(df), \n",
    "                                                                                                            1))"
   ]
  },
  {
   "cell_type": "code",
   "execution_count": 49,
   "id": "1c7aeb75",
   "metadata": {},
   "outputs": [
    {
     "data": {
      "text/plain": [
       "8671    0.815832\n",
       "6601   -0.057348\n",
       "5205   -0.930527\n",
       "6444   -1.803706\n",
       "4194    0.815832\n",
       "1137   -0.930527\n",
       "1329   -0.930527\n",
       "9879    1.689011\n",
       "9174    0.815832\n",
       "6202   -0.057348\n",
       "Name: numero_chamadas_cliente, dtype: float64"
      ]
     },
     "execution_count": 49,
     "metadata": {},
     "output_type": "execute_result"
    }
   ],
   "source": [
    "df.numero_chamadas_cliente.sample(10)"
   ]
  },
  {
   "cell_type": "markdown",
   "id": "fbb88416",
   "metadata": {},
   "source": [
    "> **avaliacao_cliente**"
   ]
  },
  {
   "cell_type": "code",
   "execution_count": 50,
   "id": "2ff9d86e",
   "metadata": {},
   "outputs": [],
   "source": [
    "df['avaliacao_cliente'] = StandardScaler().fit_transform(df['avaliacao_cliente'].values.reshape(len(df), 1))"
   ]
  },
  {
   "cell_type": "code",
   "execution_count": 51,
   "id": "21b4d0b4",
   "metadata": {},
   "outputs": [
    {
     "data": {
      "text/plain": [
       "9992     0.007718\n",
       "3440     1.423904\n",
       "2011    -0.700376\n",
       "5842    -0.700376\n",
       "10397   -0.700376\n",
       "3223     0.715811\n",
       "10532   -0.700376\n",
       "7233    -0.700376\n",
       "2426     1.423904\n",
       "1869    -0.700376\n",
       "Name: avaliacao_cliente, dtype: float64"
      ]
     },
     "execution_count": 51,
     "metadata": {},
     "output_type": "execute_result"
    }
   ],
   "source": [
    "df.avaliacao_cliente.sample(10)"
   ]
  },
  {
   "cell_type": "markdown",
   "id": "0b206728",
   "metadata": {},
   "source": [
    "> **compras_anteriores**"
   ]
  },
  {
   "cell_type": "code",
   "execution_count": 52,
   "id": "62ea38f6",
   "metadata": {},
   "outputs": [],
   "source": [
    "df['compras_anteriores'] = StandardScaler().fit_transform(df['compras_anteriores'].values.reshape(len(df), 1))"
   ]
  },
  {
   "cell_type": "code",
   "execution_count": 53,
   "id": "cdd6c1c6",
   "metadata": {},
   "outputs": [
    {
     "data": {
      "text/plain": [
       "1057   -1.135605\n",
       "8734   -1.135605\n",
       "7061    0.416201\n",
       "1326    1.192105\n",
       "2900   -0.359702\n",
       "2385   -1.135605\n",
       "9586   -1.135605\n",
       "2131   -1.135605\n",
       "9502    1.968008\n",
       "6327   -0.359702\n",
       "Name: compras_anteriores, dtype: float64"
      ]
     },
     "execution_count": 53,
     "metadata": {},
     "output_type": "execute_result"
    }
   ],
   "source": [
    "df.compras_anteriores.sample(10)"
   ]
  },
  {
   "cell_type": "code",
   "execution_count": 54,
   "id": "f903efa1",
   "metadata": {},
   "outputs": [
    {
     "data": {
      "text/html": [
       "<div>\n",
       "<style scoped>\n",
       "    .dataframe tbody tr th:only-of-type {\n",
       "        vertical-align: middle;\n",
       "    }\n",
       "\n",
       "    .dataframe tbody tr th {\n",
       "        vertical-align: top;\n",
       "    }\n",
       "\n",
       "    .dataframe thead th {\n",
       "        text-align: right;\n",
       "    }\n",
       "</style>\n",
       "<table border=\"1\" class=\"dataframe\">\n",
       "  <thead>\n",
       "    <tr style=\"text-align: right;\">\n",
       "      <th></th>\n",
       "      <th>modo_envio</th>\n",
       "      <th>numero_chamadas_cliente</th>\n",
       "      <th>avaliacao_cliente</th>\n",
       "      <th>custo_produto</th>\n",
       "      <th>compras_anteriores</th>\n",
       "      <th>prioridade_produto</th>\n",
       "      <th>genero</th>\n",
       "      <th>desconto</th>\n",
       "      <th>peso_gramas</th>\n",
       "      <th>entregue_no_prazo</th>\n",
       "      <th>...</th>\n",
       "      <th>performance_modo_envio_Atraso Problemático na Entrega Por Navio</th>\n",
       "      <th>performance_modo_envio_Atraso Tolerável na Entrega Por Aviao</th>\n",
       "      <th>performance_modo_envio_Atraso Tolerável na Entrega Por Caminhao</th>\n",
       "      <th>performance_modo_envio_Atraso Tolerável na Entrega Por Navio</th>\n",
       "      <th>performance_modo_envio_Não Houve Atraso</th>\n",
       "      <th>faixa_desconto_Desconto Abaixo da Media</th>\n",
       "      <th>faixa_desconto_Desconto Acima da Media</th>\n",
       "      <th>performance_faixa_desconto_Atraso na Entrega com Desconto Abaixo da Media</th>\n",
       "      <th>performance_faixa_desconto_Entrega no Prazo com Desconto Abaixo da Media</th>\n",
       "      <th>performance_faixa_desconto_Entrega no Prazo com Desconto Acima da Media</th>\n",
       "    </tr>\n",
       "  </thead>\n",
       "  <tbody>\n",
       "    <tr>\n",
       "      <th>0</th>\n",
       "      <td>1</td>\n",
       "      <td>-0.057348</td>\n",
       "      <td>-0.700376</td>\n",
       "      <td>0.378505</td>\n",
       "      <td>-0.359702</td>\n",
       "      <td>1</td>\n",
       "      <td>0</td>\n",
       "      <td>2.099353</td>\n",
       "      <td>0.033893</td>\n",
       "      <td>1</td>\n",
       "      <td>...</td>\n",
       "      <td>0</td>\n",
       "      <td>0</td>\n",
       "      <td>0</td>\n",
       "      <td>0</td>\n",
       "      <td>1</td>\n",
       "      <td>0</td>\n",
       "      <td>1</td>\n",
       "      <td>0</td>\n",
       "      <td>0</td>\n",
       "      <td>1</td>\n",
       "    </tr>\n",
       "    <tr>\n",
       "      <th>1</th>\n",
       "      <td>1</td>\n",
       "      <td>-0.057348</td>\n",
       "      <td>1.423904</td>\n",
       "      <td>0.560748</td>\n",
       "      <td>-1.135605</td>\n",
       "      <td>1</td>\n",
       "      <td>1</td>\n",
       "      <td>3.099936</td>\n",
       "      <td>0.304894</td>\n",
       "      <td>1</td>\n",
       "      <td>...</td>\n",
       "      <td>0</td>\n",
       "      <td>0</td>\n",
       "      <td>0</td>\n",
       "      <td>0</td>\n",
       "      <td>1</td>\n",
       "      <td>0</td>\n",
       "      <td>1</td>\n",
       "      <td>0</td>\n",
       "      <td>0</td>\n",
       "      <td>1</td>\n",
       "    </tr>\n",
       "    <tr>\n",
       "      <th>2</th>\n",
       "      <td>1</td>\n",
       "      <td>-1.803706</td>\n",
       "      <td>-0.700376</td>\n",
       "      <td>0.406542</td>\n",
       "      <td>0.416201</td>\n",
       "      <td>1</td>\n",
       "      <td>1</td>\n",
       "      <td>2.366175</td>\n",
       "      <td>0.346676</td>\n",
       "      <td>1</td>\n",
       "      <td>...</td>\n",
       "      <td>0</td>\n",
       "      <td>0</td>\n",
       "      <td>0</td>\n",
       "      <td>0</td>\n",
       "      <td>1</td>\n",
       "      <td>0</td>\n",
       "      <td>1</td>\n",
       "      <td>0</td>\n",
       "      <td>0</td>\n",
       "      <td>1</td>\n",
       "    </tr>\n",
       "    <tr>\n",
       "      <th>3</th>\n",
       "      <td>1</td>\n",
       "      <td>-0.930527</td>\n",
       "      <td>0.007718</td>\n",
       "      <td>0.373832</td>\n",
       "      <td>0.416201</td>\n",
       "      <td>2</td>\n",
       "      <td>1</td>\n",
       "      <td>-0.168635</td>\n",
       "      <td>0.025712</td>\n",
       "      <td>1</td>\n",
       "      <td>...</td>\n",
       "      <td>0</td>\n",
       "      <td>0</td>\n",
       "      <td>0</td>\n",
       "      <td>0</td>\n",
       "      <td>1</td>\n",
       "      <td>1</td>\n",
       "      <td>0</td>\n",
       "      <td>0</td>\n",
       "      <td>1</td>\n",
       "      <td>0</td>\n",
       "    </tr>\n",
       "    <tr>\n",
       "      <th>4</th>\n",
       "      <td>1</td>\n",
       "      <td>-1.803706</td>\n",
       "      <td>-0.700376</td>\n",
       "      <td>0.411215</td>\n",
       "      <td>-0.359702</td>\n",
       "      <td>2</td>\n",
       "      <td>0</td>\n",
       "      <td>2.232764</td>\n",
       "      <td>0.216654</td>\n",
       "      <td>1</td>\n",
       "      <td>...</td>\n",
       "      <td>0</td>\n",
       "      <td>0</td>\n",
       "      <td>0</td>\n",
       "      <td>0</td>\n",
       "      <td>1</td>\n",
       "      <td>0</td>\n",
       "      <td>1</td>\n",
       "      <td>0</td>\n",
       "      <td>0</td>\n",
       "      <td>1</td>\n",
       "    </tr>\n",
       "  </tbody>\n",
       "</table>\n",
       "<p>5 rows × 34 columns</p>\n",
       "</div>"
      ],
      "text/plain": [
       "   modo_envio  numero_chamadas_cliente  avaliacao_cliente  custo_produto  \\\n",
       "0           1                -0.057348          -0.700376       0.378505   \n",
       "1           1                -0.057348           1.423904       0.560748   \n",
       "2           1                -1.803706          -0.700376       0.406542   \n",
       "3           1                -0.930527           0.007718       0.373832   \n",
       "4           1                -1.803706          -0.700376       0.411215   \n",
       "\n",
       "   compras_anteriores  prioridade_produto  genero  desconto  peso_gramas  \\\n",
       "0           -0.359702                   1       0  2.099353     0.033893   \n",
       "1           -1.135605                   1       1  3.099936     0.304894   \n",
       "2            0.416201                   1       1  2.366175     0.346676   \n",
       "3            0.416201                   2       1 -0.168635     0.025712   \n",
       "4           -0.359702                   2       0  2.232764     0.216654   \n",
       "\n",
       "   entregue_no_prazo  ...  \\\n",
       "0                  1  ...   \n",
       "1                  1  ...   \n",
       "2                  1  ...   \n",
       "3                  1  ...   \n",
       "4                  1  ...   \n",
       "\n",
       "   performance_modo_envio_Atraso Problemático na Entrega Por Navio  \\\n",
       "0                                                  0                 \n",
       "1                                                  0                 \n",
       "2                                                  0                 \n",
       "3                                                  0                 \n",
       "4                                                  0                 \n",
       "\n",
       "   performance_modo_envio_Atraso Tolerável na Entrega Por Aviao  \\\n",
       "0                                                  0              \n",
       "1                                                  0              \n",
       "2                                                  0              \n",
       "3                                                  0              \n",
       "4                                                  0              \n",
       "\n",
       "   performance_modo_envio_Atraso Tolerável na Entrega Por Caminhao  \\\n",
       "0                                                  0                 \n",
       "1                                                  0                 \n",
       "2                                                  0                 \n",
       "3                                                  0                 \n",
       "4                                                  0                 \n",
       "\n",
       "   performance_modo_envio_Atraso Tolerável na Entrega Por Navio  \\\n",
       "0                                                  0              \n",
       "1                                                  0              \n",
       "2                                                  0              \n",
       "3                                                  0              \n",
       "4                                                  0              \n",
       "\n",
       "   performance_modo_envio_Não Houve Atraso  \\\n",
       "0                                        1   \n",
       "1                                        1   \n",
       "2                                        1   \n",
       "3                                        1   \n",
       "4                                        1   \n",
       "\n",
       "   faixa_desconto_Desconto Abaixo da Media  \\\n",
       "0                                        0   \n",
       "1                                        0   \n",
       "2                                        0   \n",
       "3                                        1   \n",
       "4                                        0   \n",
       "\n",
       "   faixa_desconto_Desconto Acima da Media  \\\n",
       "0                                       1   \n",
       "1                                       1   \n",
       "2                                       1   \n",
       "3                                       0   \n",
       "4                                       1   \n",
       "\n",
       "   performance_faixa_desconto_Atraso na Entrega com Desconto Abaixo da Media  \\\n",
       "0                                                  0                           \n",
       "1                                                  0                           \n",
       "2                                                  0                           \n",
       "3                                                  0                           \n",
       "4                                                  0                           \n",
       "\n",
       "   performance_faixa_desconto_Entrega no Prazo com Desconto Abaixo da Media  \\\n",
       "0                                                  0                          \n",
       "1                                                  0                          \n",
       "2                                                  0                          \n",
       "3                                                  1                          \n",
       "4                                                  0                          \n",
       "\n",
       "   performance_faixa_desconto_Entrega no Prazo com Desconto Acima da Media  \n",
       "0                                                  1                        \n",
       "1                                                  1                        \n",
       "2                                                  1                        \n",
       "3                                                  0                        \n",
       "4                                                  1                        \n",
       "\n",
       "[5 rows x 34 columns]"
      ]
     },
     "execution_count": 54,
     "metadata": {},
     "output_type": "execute_result"
    }
   ],
   "source": [
    "df.head()"
   ]
  },
  {
   "cell_type": "markdown",
   "id": "c19606d2",
   "metadata": {},
   "source": [
    "> # Dataset final"
   ]
  },
  {
   "cell_type": "code",
   "execution_count": 55,
   "id": "4ceb8427",
   "metadata": {},
   "outputs": [],
   "source": [
    "df.to_csv('dados/dataset_final.csv', sep = ',', encoding = 'utf-8')"
   ]
  }
 ],
 "metadata": {
  "colab": {
   "collapsed_sections": [],
   "name": "Stage 2 Final Project - W3.Solutions().ipynb",
   "provenance": []
  },
  "kernelspec": {
   "display_name": "Python 3 (ipykernel)",
   "language": "python",
   "name": "python3"
  },
  "language_info": {
   "codemirror_mode": {
    "name": "ipython",
    "version": 3
   },
   "file_extension": ".py",
   "mimetype": "text/x-python",
   "name": "python",
   "nbconvert_exporter": "python",
   "pygments_lexer": "ipython3",
   "version": "3.9.7"
  }
 },
 "nbformat": 4,
 "nbformat_minor": 5
}
